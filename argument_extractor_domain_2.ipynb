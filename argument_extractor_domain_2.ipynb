{
 "cells": [
  {
   "cell_type": "code",
   "execution_count": 1,
   "id": "9df11183",
   "metadata": {},
   "outputs": [],
   "source": [
    "import pandas as pd\n",
    "import numpy as np\n",
    "import string\n",
    "import csv"
   ]
  },
  {
   "cell_type": "code",
   "execution_count": 2,
   "id": "0fa2d01e",
   "metadata": {},
   "outputs": [
    {
     "name": "stdout",
     "output_type": "stream",
     "text": [
      "3.10.2\n"
     ]
    }
   ],
   "source": [
    "from platform import python_version\n",
    "print(python_version())"
   ]
  },
  {
   "cell_type": "code",
   "execution_count": 3,
   "id": "100adf80",
   "metadata": {},
   "outputs": [
    {
     "name": "stdout",
     "output_type": "stream",
     "text": [
      "OK\n"
     ]
    }
   ],
   "source": [
    "print(\"OK\")"
   ]
  },
  {
   "cell_type": "code",
   "execution_count": 4,
   "id": "1a76f3c3",
   "metadata": {},
   "outputs": [],
   "source": [
    "# initialize df with 1 row, later append all data to this df\n",
    "df = pd.read_csv(\".\\\\Datasets\\\\ArgumentAnnotatedEssays-2.0\\\\brat-project-final\\\\essay001.ann\", header=None, names=[\"marker\", \"annotation_tmp\", \"sentence\"], sep='\\t', quoting=csv.QUOTE_NONE, encoding='utf-8').head(1)"
   ]
  },
  {
   "cell_type": "code",
   "execution_count": 5,
   "id": "5db752d0",
   "metadata": {},
   "outputs": [
    {
     "data": {
      "text/html": [
       "<div>\n",
       "<style scoped>\n",
       "    .dataframe tbody tr th:only-of-type {\n",
       "        vertical-align: middle;\n",
       "    }\n",
       "\n",
       "    .dataframe tbody tr th {\n",
       "        vertical-align: top;\n",
       "    }\n",
       "\n",
       "    .dataframe thead th {\n",
       "        text-align: right;\n",
       "    }\n",
       "</style>\n",
       "<table border=\"1\" class=\"dataframe\">\n",
       "  <thead>\n",
       "    <tr style=\"text-align: right;\">\n",
       "      <th></th>\n",
       "      <th>marker</th>\n",
       "      <th>annotation_tmp</th>\n",
       "      <th>sentence</th>\n",
       "    </tr>\n",
       "  </thead>\n",
       "  <tbody>\n",
       "    <tr>\n",
       "      <th>0</th>\n",
       "      <td>T1</td>\n",
       "      <td>MajorClaim 503 575</td>\n",
       "      <td>we should attach more importance to cooperatio...</td>\n",
       "    </tr>\n",
       "  </tbody>\n",
       "</table>\n",
       "</div>"
      ],
      "text/plain": [
       "  marker      annotation_tmp  \\\n",
       "0     T1  MajorClaim 503 575   \n",
       "\n",
       "                                            sentence  \n",
       "0  we should attach more importance to cooperatio...  "
      ]
     },
     "execution_count": 5,
     "metadata": {},
     "output_type": "execute_result"
    }
   ],
   "source": [
    "df"
   ]
  },
  {
   "cell_type": "code",
   "execution_count": 6,
   "id": "f4d8accc",
   "metadata": {},
   "outputs": [],
   "source": [
    "for i in range(1, 403):\n",
    "    if i < 10:\n",
    "        curr_df = pd.read_csv(\".\\\\Datasets\\\\ArgumentAnnotatedEssays-2.0\\\\brat-project-final\\\\essay00\" + str(i) + \".ann\", header=None, names=[\"marker\", \"annotation_tmp\", \"sentence\"], sep='\\t', quoting=csv.QUOTE_NONE, encoding='utf-8')\n",
    "        curr_df = curr_df[curr_df['sentence'].notna()]\n",
    "        curr_df = curr_df.reset_index(drop=True)\n",
    "        df = pd.concat([df, curr_df], ignore_index=True)\n",
    "    # essay010 to essay099 \n",
    "    elif i < 100:\n",
    "        curr_df = pd.read_csv(\".\\\\Datasets\\\\ArgumentAnnotatedEssays-2.0\\\\brat-project-final\\\\essay0\" + str(i) + \".ann\", header=None, names=[\"marker\", \"annotation_tmp\", \"sentence\"], sep='\\t', quoting=csv.QUOTE_NONE, encoding='utf-8')\n",
    "        curr_df = curr_df[curr_df['sentence'].notna()]\n",
    "        curr_df = curr_df.reset_index(drop=True)\n",
    "        df = pd.concat([df, curr_df], ignore_index=True)\n",
    "    # essay100 - essay402\n",
    "    else:\n",
    "        curr_df = pd.read_csv(\".\\\\Datasets\\\\ArgumentAnnotatedEssays-2.0\\\\brat-project-final\\\\essay\" + str(i) + \".ann\", header=None, names=[\"marker\", \"annotation_tmp\", \"sentence\"], sep='\\t', quoting=csv.QUOTE_NONE, encoding='utf-8')\n",
    "        curr_df = curr_df[curr_df['sentence'].notna()]\n",
    "        curr_df = curr_df.reset_index(drop=True)\n",
    "        df = pd.concat([df, curr_df], ignore_index=True)\n",
    "        \n",
    "        \n",
    "# drop first dummy row from initialization\n",
    "df = df.iloc[1:]"
   ]
  },
  {
   "cell_type": "code",
   "execution_count": 7,
   "id": "6310cdd8",
   "metadata": {
    "scrolled": true
   },
   "outputs": [],
   "source": [
    "# drop duplicate sentences\n",
    "df = df.drop_duplicates(subset=['sentence'])\n",
    "df = df.reset_index(drop=True)\n",
    "df['annotation'] = 'argument'\n",
    "df = df[['sentence', 'annotation']]\n",
    "df = df[df['sentence'].notna()]"
   ]
  },
  {
   "cell_type": "code",
   "execution_count": 8,
   "id": "49089500",
   "metadata": {},
   "outputs": [],
   "source": [
    "# sentences = df['sentence']\n",
    "# clean_sentences = []\n",
    "# #map punctuation to space\n",
    "# translator = str.maketrans(string.punctuation, ' '*len(string.punctuation))\n",
    "\n",
    "# for sentence in sentences:\n",
    "#     # replace punctuation marks with space\n",
    "#     sentence = sentence.translate(translator)\n",
    "#     # replace multiple spaces by 1 space\n",
    "#     sentence = ' '.join(sentence.split())\n",
    "#     clean_sentences.append(sentence)"
   ]
  },
  {
   "cell_type": "code",
   "execution_count": 9,
   "id": "3a3272d4",
   "metadata": {},
   "outputs": [],
   "source": [
    "# df['sentence'] = clean_sentences"
   ]
  },
  {
   "cell_type": "code",
   "execution_count": 10,
   "id": "71b08972",
   "metadata": {},
   "outputs": [
    {
     "data": {
      "text/html": [
       "<div>\n",
       "<style scoped>\n",
       "    .dataframe tbody tr th:only-of-type {\n",
       "        vertical-align: middle;\n",
       "    }\n",
       "\n",
       "    .dataframe tbody tr th {\n",
       "        vertical-align: top;\n",
       "    }\n",
       "\n",
       "    .dataframe thead th {\n",
       "        text-align: right;\n",
       "    }\n",
       "</style>\n",
       "<table border=\"1\" class=\"dataframe\">\n",
       "  <thead>\n",
       "    <tr style=\"text-align: right;\">\n",
       "      <th></th>\n",
       "      <th>sentence</th>\n",
       "      <th>annotation</th>\n",
       "    </tr>\n",
       "  </thead>\n",
       "  <tbody>\n",
       "    <tr>\n",
       "      <th>0</th>\n",
       "      <td>we should attach more importance to cooperatio...</td>\n",
       "      <td>argument</td>\n",
       "    </tr>\n",
       "    <tr>\n",
       "      <th>1</th>\n",
       "      <td>a more cooperative attitudes towards life is m...</td>\n",
       "      <td>argument</td>\n",
       "    </tr>\n",
       "    <tr>\n",
       "      <th>2</th>\n",
       "      <td>through cooperation, children can learn about ...</td>\n",
       "      <td>argument</td>\n",
       "    </tr>\n",
       "    <tr>\n",
       "      <th>3</th>\n",
       "      <td>What we acquired from team work is not only ho...</td>\n",
       "      <td>argument</td>\n",
       "    </tr>\n",
       "    <tr>\n",
       "      <th>4</th>\n",
       "      <td>During the process of cooperation, children ca...</td>\n",
       "      <td>argument</td>\n",
       "    </tr>\n",
       "    <tr>\n",
       "      <th>...</th>\n",
       "      <td>...</td>\n",
       "      <td>...</td>\n",
       "    </tr>\n",
       "    <tr>\n",
       "      <th>6045</th>\n",
       "      <td>indirectly they will learn how to socialize ea...</td>\n",
       "      <td>argument</td>\n",
       "    </tr>\n",
       "    <tr>\n",
       "      <th>6046</th>\n",
       "      <td>That will make children getting lots of friends</td>\n",
       "      <td>argument</td>\n",
       "    </tr>\n",
       "    <tr>\n",
       "      <th>6047</th>\n",
       "      <td>they can contribute positively to community</td>\n",
       "      <td>argument</td>\n",
       "    </tr>\n",
       "    <tr>\n",
       "      <th>6048</th>\n",
       "      <td>playing sport makes children getting healthy a...</td>\n",
       "      <td>argument</td>\n",
       "    </tr>\n",
       "    <tr>\n",
       "      <th>6049</th>\n",
       "      <td>playing sports will give good effects on children</td>\n",
       "      <td>argument</td>\n",
       "    </tr>\n",
       "  </tbody>\n",
       "</table>\n",
       "<p>6050 rows × 2 columns</p>\n",
       "</div>"
      ],
      "text/plain": [
       "                                               sentence annotation\n",
       "0     we should attach more importance to cooperatio...   argument\n",
       "1     a more cooperative attitudes towards life is m...   argument\n",
       "2     through cooperation, children can learn about ...   argument\n",
       "3     What we acquired from team work is not only ho...   argument\n",
       "4     During the process of cooperation, children ca...   argument\n",
       "...                                                 ...        ...\n",
       "6045  indirectly they will learn how to socialize ea...   argument\n",
       "6046    That will make children getting lots of friends   argument\n",
       "6047        they can contribute positively to community   argument\n",
       "6048  playing sport makes children getting healthy a...   argument\n",
       "6049  playing sports will give good effects on children   argument\n",
       "\n",
       "[6050 rows x 2 columns]"
      ]
     },
     "execution_count": 10,
     "metadata": {},
     "output_type": "execute_result"
    }
   ],
   "source": [
    "df"
   ]
  },
  {
   "cell_type": "code",
   "execution_count": 11,
   "id": "7bad55c6",
   "metadata": {},
   "outputs": [],
   "source": [
    "df.to_csv(\"domain_2_arguments_raw.csv\", sep='\\t', encoding='utf-8')"
   ]
  },
  {
   "cell_type": "code",
   "execution_count": null,
   "id": "6994f1c6",
   "metadata": {},
   "outputs": [],
   "source": []
  },
  {
   "cell_type": "code",
   "execution_count": null,
   "id": "fb135f5e",
   "metadata": {},
   "outputs": [],
   "source": []
  },
  {
   "cell_type": "code",
   "execution_count": 12,
   "id": "76f80d61",
   "metadata": {},
   "outputs": [],
   "source": [
    "sents = df['sentence']"
   ]
  },
  {
   "cell_type": "code",
   "execution_count": 13,
   "id": "3b314c89",
   "metadata": {},
   "outputs": [],
   "source": [
    "longest = 0\n",
    "shortest = 10000\n",
    "average = 0\n",
    "lengths = []\n",
    "for sentence in sents:\n",
    "    length = len(sentence.split())\n",
    "    lengths.append(length)\n",
    "    if length > longest:\n",
    "        longest = length\n",
    "    if length < shortest:\n",
    "        shortest = length"
   ]
  },
  {
   "cell_type": "code",
   "execution_count": 14,
   "id": "6ebc5533",
   "metadata": {},
   "outputs": [
    {
     "name": "stdout",
     "output_type": "stream",
     "text": [
      "67\n",
      "3\n",
      "15\n"
     ]
    }
   ],
   "source": [
    "print(longest)\n",
    "print(shortest)\n",
    "print(int(np.average(lengths)))"
   ]
  }
 ],
 "metadata": {
  "kernelspec": {
   "display_name": "Python3.10.2 (venv)",
   "language": "python",
   "name": "venv"
  },
  "language_info": {
   "codemirror_mode": {
    "name": "ipython",
    "version": 3
   },
   "file_extension": ".py",
   "mimetype": "text/x-python",
   "name": "python",
   "nbconvert_exporter": "python",
   "pygments_lexer": "ipython3",
   "version": "3.10.2"
  }
 },
 "nbformat": 4,
 "nbformat_minor": 5
}
