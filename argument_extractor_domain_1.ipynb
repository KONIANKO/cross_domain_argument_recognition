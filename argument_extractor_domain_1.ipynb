{
 "cells": [
  {
   "cell_type": "markdown",
   "id": "c5a6e17f",
   "metadata": {},
   "source": [
    "## IM1"
   ]
  },
  {
   "cell_type": "markdown",
   "id": "35913b5f",
   "metadata": {},
   "source": [
    "### Execute a jupyter notebook in a virtual env\n",
    "https://stackoverflow.com/questions/33496350/execute-python-script-within-jupyter-notebook-using-a-specific-virtualenv\n",
    "\n",
    "1. pip install virtualenvwrapper\n",
    "2. virtualenv venv\n",
    "3. .\\venv\\Scripts\\activate\n",
    "4. (venv) pip install jupyter\n",
    "5. (venv) pip install ipykernel\n",
    "\n",
    "Next, set up the kernel\n",
    "\n",
    "6. (venv) python -m ipykernel install --name venv --display-name \"Python3.10.2 (venv)\"\n",
    "\n",
    "Run jupyter notebook\n",
    "\n",
    "7. (venv) jupyter notebook\n",
    "8. in jupyter notebook select Krnel \"Python3.10.2 (venv)\""
   ]
  },
  {
   "cell_type": "code",
   "execution_count": 1,
   "id": "6ac35162",
   "metadata": {},
   "outputs": [
    {
     "name": "stdout",
     "output_type": "stream",
     "text": [
      "3.10.2\n"
     ]
    }
   ],
   "source": [
    "from platform import python_version\n",
    "print(python_version())"
   ]
  },
  {
   "cell_type": "code",
   "execution_count": 2,
   "id": "92f344a6",
   "metadata": {
    "scrolled": true
   },
   "outputs": [
    {
     "name": "stderr",
     "output_type": "stream",
     "text": [
      "[nltk_data] Downloading package stopwords to\n",
      "[nltk_data]     C:\\Users\\Andrei\\AppData\\Roaming\\nltk_data...\n",
      "[nltk_data]   Package stopwords is already up-to-date!\n",
      "[nltk_data] Downloading package punkt to\n",
      "[nltk_data]     C:\\Users\\Andrei\\AppData\\Roaming\\nltk_data...\n",
      "[nltk_data]   Package punkt is already up-to-date!\n"
     ]
    }
   ],
   "source": [
    "import pandas as pd\n",
    "import seaborn as sns\n",
    "import numpy as np\n",
    "import string\n",
    "import matplotlib.pyplot as plt\n",
    "import string\n",
    "from string import punctuation\n",
    "import nltk\n",
    "from nltk.corpus import stopwords\n",
    "nltk.download('stopwords')\n",
    "nltk.download('punkt')\n",
    "import tensorflow as tf\n",
    "import csv"
   ]
  },
  {
   "cell_type": "code",
   "execution_count": 3,
   "id": "631f361b",
   "metadata": {},
   "outputs": [
    {
     "name": "stdout",
     "output_type": "stream",
     "text": [
      "OK\n"
     ]
    }
   ],
   "source": [
    "print(\"OK\")"
   ]
  },
  {
   "cell_type": "code",
   "execution_count": 4,
   "id": "23cd3b4e",
   "metadata": {},
   "outputs": [],
   "source": [
    "fields = ['sentence', 'annotation']\n",
    "file_names = ['abortion', 'cloning', 'death_penalty', 'gun_control', \n",
    "              'marijuana_legalization', 'minimum_wage', 'nuclear_energy',\n",
    "             'school_uniforms']\n",
    "\n",
    "# initialize df with 1 row, later append all data to this df\n",
    "df = pd.read_csv(\".\\\\Datasets\\\\UKP_sentential_argument_mining\\\\cloning.tsv\", sep='\\t', usecols=fields, quoting=csv.QUOTE_NONE, encoding='utf-8').head(1)"
   ]
  },
  {
   "cell_type": "code",
   "execution_count": 5,
   "id": "4a07fd98",
   "metadata": {},
   "outputs": [],
   "source": [
    "for file in file_names:\n",
    "    curr_df = pd.read_csv(\".\\\\Datasets\\\\UKP_sentential_argument_mining\\\\\" + file + \".tsv\", sep='\\t', usecols=fields, quoting=csv.QUOTE_NONE, encoding='utf-8')\n",
    "    df = pd.concat([df, curr_df], ignore_index=True)\n",
    "\n",
    "# drop first dummy row from initialization\n",
    "df = df.iloc[1:]"
   ]
  },
  {
   "cell_type": "code",
   "execution_count": 6,
   "id": "41d42600",
   "metadata": {},
   "outputs": [],
   "source": [
    "# delete all NoArgument ragarding topic\n",
    "df = df[df.annotation != 'NoArgument']\n",
    "# label alll sentences with \"argument\"\n",
    "df[\"annotation\"] = \"argument\"\n",
    "# drop duplicate sentences\n",
    "df = df.drop_duplicates(subset=['sentence'])\n",
    "df = df.reset_index(drop=True)\n",
    "df = df[df['sentence'].notna()]"
   ]
  },
  {
   "cell_type": "code",
   "execution_count": 7,
   "id": "dcd3f471",
   "metadata": {},
   "outputs": [],
   "source": [
    "# sentences = df['sentence']\n",
    "# clean_sentences = []\n",
    "# #map punctuation to space\n",
    "# translator = str.maketrans(string.punctuation, ' '*len(string.punctuation))\n",
    "\n",
    "# for sentence in sentences:\n",
    "#     # replace punctuation marks with space\n",
    "#     sentence = sentence.translate(translator)\n",
    "#     # replace multiple spaces by 1 space\n",
    "#     sentence = ' '.join(sentence.split())\n",
    "#     clean_sentences.append(sentence)"
   ]
  },
  {
   "cell_type": "code",
   "execution_count": 8,
   "id": "403289d0",
   "metadata": {},
   "outputs": [],
   "source": [
    "# df['sentence'] = clean_sentences"
   ]
  },
  {
   "cell_type": "code",
   "execution_count": 9,
   "id": "8d66cfd6",
   "metadata": {
    "scrolled": true
   },
   "outputs": [
    {
     "data": {
      "text/html": [
       "<div>\n",
       "<style scoped>\n",
       "    .dataframe tbody tr th:only-of-type {\n",
       "        vertical-align: middle;\n",
       "    }\n",
       "\n",
       "    .dataframe tbody tr th {\n",
       "        vertical-align: top;\n",
       "    }\n",
       "\n",
       "    .dataframe thead th {\n",
       "        text-align: right;\n",
       "    }\n",
       "</style>\n",
       "<table border=\"1\" class=\"dataframe\">\n",
       "  <thead>\n",
       "    <tr style=\"text-align: right;\">\n",
       "      <th></th>\n",
       "      <th>sentence</th>\n",
       "      <th>annotation</th>\n",
       "    </tr>\n",
       "  </thead>\n",
       "  <tbody>\n",
       "    <tr>\n",
       "      <th>0</th>\n",
       "      <td>In this case we may never do evil ( directly a...</td>\n",
       "      <td>argument</td>\n",
       "    </tr>\n",
       "    <tr>\n",
       "      <th>1</th>\n",
       "      <td>The choice — the only actual choice , in the w...</td>\n",
       "      <td>argument</td>\n",
       "    </tr>\n",
       "    <tr>\n",
       "      <th>2</th>\n",
       "      <td>But I am glad I do n't live in a society with ...</td>\n",
       "      <td>argument</td>\n",
       "    </tr>\n",
       "    <tr>\n",
       "      <th>3</th>\n",
       "      <td>We live in a world where “ post-birth abortion...</td>\n",
       "      <td>argument</td>\n",
       "    </tr>\n",
       "    <tr>\n",
       "      <th>4</th>\n",
       "      <td>We have quotes from hospital documents that do...</td>\n",
       "      <td>argument</td>\n",
       "    </tr>\n",
       "    <tr>\n",
       "      <th>...</th>\n",
       "      <td>...</td>\n",
       "      <td>...</td>\n",
       "    </tr>\n",
       "    <tr>\n",
       "      <th>11121</th>\n",
       "      <td>Even minus the uniform , he adds that bullies ...</td>\n",
       "      <td>argument</td>\n",
       "    </tr>\n",
       "    <tr>\n",
       "      <th>11122</th>\n",
       "      <td>More often than not , you will end up tugging ...</td>\n",
       "      <td>argument</td>\n",
       "    </tr>\n",
       "    <tr>\n",
       "      <th>11123</th>\n",
       "      <td>You also need to purchase 2 or 3 sets of schoo...</td>\n",
       "      <td>argument</td>\n",
       "    </tr>\n",
       "    <tr>\n",
       "      <th>11124</th>\n",
       "      <td>For example , Sikh boys , Orthodox Jews and Is...</td>\n",
       "      <td>argument</td>\n",
       "    </tr>\n",
       "    <tr>\n",
       "      <th>11125</th>\n",
       "      <td>School uniforms can be ugly and/or unflatterin...</td>\n",
       "      <td>argument</td>\n",
       "    </tr>\n",
       "  </tbody>\n",
       "</table>\n",
       "<p>11126 rows × 2 columns</p>\n",
       "</div>"
      ],
      "text/plain": [
       "                                                sentence annotation\n",
       "0      In this case we may never do evil ( directly a...   argument\n",
       "1      The choice — the only actual choice , in the w...   argument\n",
       "2      But I am glad I do n't live in a society with ...   argument\n",
       "3      We live in a world where “ post-birth abortion...   argument\n",
       "4      We have quotes from hospital documents that do...   argument\n",
       "...                                                  ...        ...\n",
       "11121  Even minus the uniform , he adds that bullies ...   argument\n",
       "11122  More often than not , you will end up tugging ...   argument\n",
       "11123  You also need to purchase 2 or 3 sets of schoo...   argument\n",
       "11124  For example , Sikh boys , Orthodox Jews and Is...   argument\n",
       "11125  School uniforms can be ugly and/or unflatterin...   argument\n",
       "\n",
       "[11126 rows x 2 columns]"
      ]
     },
     "execution_count": 9,
     "metadata": {},
     "output_type": "execute_result"
    }
   ],
   "source": [
    "df"
   ]
  },
  {
   "cell_type": "code",
   "execution_count": 10,
   "id": "adb8061c",
   "metadata": {},
   "outputs": [],
   "source": [
    "df.to_csv(\"domain_1_arguments_raw.csv\", sep='\\t', encoding='utf-8')"
   ]
  },
  {
   "cell_type": "code",
   "execution_count": 11,
   "id": "a39f544b",
   "metadata": {},
   "outputs": [],
   "source": [
    "sents = df['sentence']"
   ]
  },
  {
   "cell_type": "code",
   "execution_count": 12,
   "id": "8683b8ec",
   "metadata": {},
   "outputs": [],
   "source": [
    "longest = 0\n",
    "shortest = 10000\n",
    "average = 0\n",
    "lengths = []\n",
    "for sentence in sents:\n",
    "    length = len(sentence.split())\n",
    "    lengths.append(length)\n",
    "    if length > longest:\n",
    "        longest = length\n",
    "    if length < shortest:\n",
    "        shortest = length"
   ]
  },
  {
   "cell_type": "code",
   "execution_count": 13,
   "id": "578a32bd",
   "metadata": {},
   "outputs": [
    {
     "name": "stdout",
     "output_type": "stream",
     "text": [
      "187\n",
      "4\n",
      "26\n"
     ]
    }
   ],
   "source": [
    "print(longest)\n",
    "print(shortest)\n",
    "print(int(np.average(lengths)))"
   ]
  },
  {
   "cell_type": "code",
   "execution_count": null,
   "id": "648fbdb3",
   "metadata": {},
   "outputs": [],
   "source": []
  }
 ],
 "metadata": {
  "kernelspec": {
   "display_name": "Python3.10.2 (venv)",
   "language": "python",
   "name": "venv"
  },
  "language_info": {
   "codemirror_mode": {
    "name": "ipython",
    "version": 3
   },
   "file_extension": ".py",
   "mimetype": "text/x-python",
   "name": "python",
   "nbconvert_exporter": "python",
   "pygments_lexer": "ipython3",
   "version": "3.10.2"
  }
 },
 "nbformat": 4,
 "nbformat_minor": 5
}
