{
 "cells": [
  {
   "cell_type": "code",
   "execution_count": 1,
   "id": "f87b6ab5",
   "metadata": {},
   "outputs": [],
   "source": [
    "from stop_words import get_stop_words\n",
    "from nltk.corpus import stopwords\n",
    "import pandas as pd\n",
    "import string\n",
    "import re"
   ]
  },
  {
   "cell_type": "code",
   "execution_count": 2,
   "id": "6250c78f",
   "metadata": {},
   "outputs": [],
   "source": [
    "stop_words = list(get_stop_words('en'))         #About 900 stopwords\n",
    "nltk_words = list(stopwords.words('english'))   #About 150 stopwords\n",
    "stop_words.extend(nltk_words)"
   ]
  },
  {
   "cell_type": "markdown",
   "id": "d64ec383",
   "metadata": {},
   "source": [
    "## Prepare arguments for domain 1"
   ]
  },
  {
   "cell_type": "code",
   "execution_count": 3,
   "id": "933ef574",
   "metadata": {},
   "outputs": [],
   "source": [
    "df_domain_1 = pd.read_csv('domain_1_arguments_raw.csv', sep='\\t', encoding='utf-8', usecols=['sentence', 'annotation'])\n",
    "# shuffle df\n",
    "df_domain_1 = df_domain_1.sample(frac=1).reset_index(drop=True)\n",
    "df_domain_1 = df_domain_1[:6050]"
   ]
  },
  {
   "cell_type": "code",
   "execution_count": 4,
   "id": "1d2a62df",
   "metadata": {},
   "outputs": [
    {
     "data": {
      "text/html": [
       "<div>\n",
       "<style scoped>\n",
       "    .dataframe tbody tr th:only-of-type {\n",
       "        vertical-align: middle;\n",
       "    }\n",
       "\n",
       "    .dataframe tbody tr th {\n",
       "        vertical-align: top;\n",
       "    }\n",
       "\n",
       "    .dataframe thead th {\n",
       "        text-align: right;\n",
       "    }\n",
       "</style>\n",
       "<table border=\"1\" class=\"dataframe\">\n",
       "  <thead>\n",
       "    <tr style=\"text-align: right;\">\n",
       "      <th></th>\n",
       "      <th>sentence</th>\n",
       "      <th>annotation</th>\n",
       "    </tr>\n",
       "  </thead>\n",
       "  <tbody>\n",
       "    <tr>\n",
       "      <th>0</th>\n",
       "      <td>First setting up a research reactor adjacent t...</td>\n",
       "      <td>argument</td>\n",
       "    </tr>\n",
       "    <tr>\n",
       "      <th>1</th>\n",
       "      <td>January 8 , 2008 : \" The Three mile Island and...</td>\n",
       "      <td>argument</td>\n",
       "    </tr>\n",
       "    <tr>\n",
       "      <th>2</th>\n",
       "      <td>In other words , people experiment with what i...</td>\n",
       "      <td>argument</td>\n",
       "    </tr>\n",
       "    <tr>\n",
       "      <th>3</th>\n",
       "      <td>The second side would counter with gun control...</td>\n",
       "      <td>argument</td>\n",
       "    </tr>\n",
       "    <tr>\n",
       "      <th>4</th>\n",
       "      <td>Reverting back to nuclear energy is a grave an...</td>\n",
       "      <td>argument</td>\n",
       "    </tr>\n",
       "    <tr>\n",
       "      <th>...</th>\n",
       "      <td>...</td>\n",
       "      <td>...</td>\n",
       "    </tr>\n",
       "    <tr>\n",
       "      <th>6045</th>\n",
       "      <td>Furthermore , post-conviction appeals in death...</td>\n",
       "      <td>argument</td>\n",
       "    </tr>\n",
       "    <tr>\n",
       "      <th>6046</th>\n",
       "      <td>Yet the American Psychological Association fou...</td>\n",
       "      <td>argument</td>\n",
       "    </tr>\n",
       "    <tr>\n",
       "      <th>6047</th>\n",
       "      <td>But whilst the Irish anti-abortion lobbyists b...</td>\n",
       "      <td>argument</td>\n",
       "    </tr>\n",
       "    <tr>\n",
       "      <th>6048</th>\n",
       "      <td>There are tons of arguments against uniforms ,...</td>\n",
       "      <td>argument</td>\n",
       "    </tr>\n",
       "    <tr>\n",
       "      <th>6049</th>\n",
       "      <td>How would we be able to recollect all the guns ??</td>\n",
       "      <td>argument</td>\n",
       "    </tr>\n",
       "  </tbody>\n",
       "</table>\n",
       "<p>6050 rows × 2 columns</p>\n",
       "</div>"
      ],
      "text/plain": [
       "                                               sentence annotation\n",
       "0     First setting up a research reactor adjacent t...   argument\n",
       "1     January 8 , 2008 : \" The Three mile Island and...   argument\n",
       "2     In other words , people experiment with what i...   argument\n",
       "3     The second side would counter with gun control...   argument\n",
       "4     Reverting back to nuclear energy is a grave an...   argument\n",
       "...                                                 ...        ...\n",
       "6045  Furthermore , post-conviction appeals in death...   argument\n",
       "6046  Yet the American Psychological Association fou...   argument\n",
       "6047  But whilst the Irish anti-abortion lobbyists b...   argument\n",
       "6048  There are tons of arguments against uniforms ,...   argument\n",
       "6049  How would we be able to recollect all the guns ??   argument\n",
       "\n",
       "[6050 rows x 2 columns]"
      ]
     },
     "execution_count": 4,
     "metadata": {},
     "output_type": "execute_result"
    }
   ],
   "source": [
    "df_domain_1"
   ]
  },
  {
   "cell_type": "code",
   "execution_count": null,
   "id": "afc6078e",
   "metadata": {},
   "outputs": [],
   "source": []
  },
  {
   "cell_type": "markdown",
   "id": "e8b35ee5",
   "metadata": {},
   "source": [
    "## Prepare arguments for domain 2"
   ]
  },
  {
   "cell_type": "code",
   "execution_count": 5,
   "id": "a73e8ede",
   "metadata": {},
   "outputs": [],
   "source": [
    "df_domain_2 = pd.read_csv('domain_2_arguments_raw.csv', sep='\\t', encoding='utf-8', usecols=['sentence', 'annotation'])\n",
    "# shuffle df\n",
    "df_domain_2 = df_domain_2.sample(frac=1).reset_index(drop=True)"
   ]
  },
  {
   "cell_type": "code",
   "execution_count": 6,
   "id": "00d3480c",
   "metadata": {},
   "outputs": [
    {
     "data": {
      "text/html": [
       "<div>\n",
       "<style scoped>\n",
       "    .dataframe tbody tr th:only-of-type {\n",
       "        vertical-align: middle;\n",
       "    }\n",
       "\n",
       "    .dataframe tbody tr th {\n",
       "        vertical-align: top;\n",
       "    }\n",
       "\n",
       "    .dataframe thead th {\n",
       "        text-align: right;\n",
       "    }\n",
       "</style>\n",
       "<table border=\"1\" class=\"dataframe\">\n",
       "  <thead>\n",
       "    <tr style=\"text-align: right;\">\n",
       "      <th></th>\n",
       "      <th>sentence</th>\n",
       "      <th>annotation</th>\n",
       "    </tr>\n",
       "  </thead>\n",
       "  <tbody>\n",
       "    <tr>\n",
       "      <th>0</th>\n",
       "      <td>it promotes the communication and interaction ...</td>\n",
       "      <td>argument</td>\n",
       "    </tr>\n",
       "    <tr>\n",
       "      <th>1</th>\n",
       "      <td>schools and adults should put a sense of coope...</td>\n",
       "      <td>argument</td>\n",
       "    </tr>\n",
       "    <tr>\n",
       "      <th>2</th>\n",
       "      <td>traditional education has some merits like fee...</td>\n",
       "      <td>argument</td>\n",
       "    </tr>\n",
       "    <tr>\n",
       "      <th>3</th>\n",
       "      <td>people are now able to overcome long distances...</td>\n",
       "      <td>argument</td>\n",
       "    </tr>\n",
       "    <tr>\n",
       "      <th>4</th>\n",
       "      <td>only under specific circumstance, when student...</td>\n",
       "      <td>argument</td>\n",
       "    </tr>\n",
       "    <tr>\n",
       "      <th>...</th>\n",
       "      <td>...</td>\n",
       "      <td>...</td>\n",
       "    </tr>\n",
       "    <tr>\n",
       "      <th>6045</th>\n",
       "      <td>We all know that Einstein developed the theory...</td>\n",
       "      <td>argument</td>\n",
       "    </tr>\n",
       "    <tr>\n",
       "      <th>6046</th>\n",
       "      <td>it is estimated that China has the largest dep...</td>\n",
       "      <td>argument</td>\n",
       "    </tr>\n",
       "    <tr>\n",
       "      <th>6047</th>\n",
       "      <td>they will not have money to pay for everything</td>\n",
       "      <td>argument</td>\n",
       "    </tr>\n",
       "    <tr>\n",
       "      <th>6048</th>\n",
       "      <td>the tourism has created threatening pressure o...</td>\n",
       "      <td>argument</td>\n",
       "    </tr>\n",
       "    <tr>\n",
       "      <th>6049</th>\n",
       "      <td>they find hard to have time to prepare and coo...</td>\n",
       "      <td>argument</td>\n",
       "    </tr>\n",
       "  </tbody>\n",
       "</table>\n",
       "<p>6050 rows × 2 columns</p>\n",
       "</div>"
      ],
      "text/plain": [
       "                                               sentence annotation\n",
       "0     it promotes the communication and interaction ...   argument\n",
       "1     schools and adults should put a sense of coope...   argument\n",
       "2     traditional education has some merits like fee...   argument\n",
       "3     people are now able to overcome long distances...   argument\n",
       "4     only under specific circumstance, when student...   argument\n",
       "...                                                 ...        ...\n",
       "6045  We all know that Einstein developed the theory...   argument\n",
       "6046  it is estimated that China has the largest dep...   argument\n",
       "6047     they will not have money to pay for everything   argument\n",
       "6048  the tourism has created threatening pressure o...   argument\n",
       "6049  they find hard to have time to prepare and coo...   argument\n",
       "\n",
       "[6050 rows x 2 columns]"
      ]
     },
     "execution_count": 6,
     "metadata": {},
     "output_type": "execute_result"
    }
   ],
   "source": [
    "df_domain_2"
   ]
  },
  {
   "cell_type": "code",
   "execution_count": null,
   "id": "3f8dbdd6",
   "metadata": {},
   "outputs": [],
   "source": []
  },
  {
   "cell_type": "markdown",
   "id": "8a5d7ddc",
   "metadata": {},
   "source": [
    "## Prepare non_arguments from questions"
   ]
  },
  {
   "cell_type": "code",
   "execution_count": 7,
   "id": "8cb4255d",
   "metadata": {},
   "outputs": [],
   "source": [
    "df_questions = pd.read_csv('non_arguments_questions_raw.csv', sep='\\t', encoding='utf-8', usecols=['sentence', 'annotation'])\n",
    "# shuffle df\n",
    "df_questions = df_questions.sample(frac=1).reset_index(drop=True)\n",
    "df_questions_1 = df_questions[:1228]\n",
    "df_questions_2 = df_questions[1228:]"
   ]
  },
  {
   "cell_type": "code",
   "execution_count": 8,
   "id": "fb622419",
   "metadata": {},
   "outputs": [
    {
     "data": {
      "text/html": [
       "<div>\n",
       "<style scoped>\n",
       "    .dataframe tbody tr th:only-of-type {\n",
       "        vertical-align: middle;\n",
       "    }\n",
       "\n",
       "    .dataframe tbody tr th {\n",
       "        vertical-align: top;\n",
       "    }\n",
       "\n",
       "    .dataframe thead th {\n",
       "        text-align: right;\n",
       "    }\n",
       "</style>\n",
       "<table border=\"1\" class=\"dataframe\">\n",
       "  <thead>\n",
       "    <tr style=\"text-align: right;\">\n",
       "      <th></th>\n",
       "      <th>sentence</th>\n",
       "      <th>annotation</th>\n",
       "    </tr>\n",
       "  </thead>\n",
       "  <tbody>\n",
       "    <tr>\n",
       "      <th>0</th>\n",
       "      <td>What year were the first xylophone artifacts f...</td>\n",
       "      <td>non_argument</td>\n",
       "    </tr>\n",
       "    <tr>\n",
       "      <th>1</th>\n",
       "      <td>Were the treaties signed in 1947 and 1948 with...</td>\n",
       "      <td>non_argument</td>\n",
       "    </tr>\n",
       "    <tr>\n",
       "      <th>2</th>\n",
       "      <td>How many municipalities are within Oberland?</td>\n",
       "      <td>non_argument</td>\n",
       "    </tr>\n",
       "    <tr>\n",
       "      <th>3</th>\n",
       "      <td>For how many years did Charles-Augustin de Cou...</td>\n",
       "      <td>non_argument</td>\n",
       "    </tr>\n",
       "    <tr>\n",
       "      <th>4</th>\n",
       "      <td>Where was Isaac Newton born?</td>\n",
       "      <td>non_argument</td>\n",
       "    </tr>\n",
       "    <tr>\n",
       "      <th>...</th>\n",
       "      <td>...</td>\n",
       "      <td>...</td>\n",
       "    </tr>\n",
       "    <tr>\n",
       "      <th>1223</th>\n",
       "      <td>Give an example of the largest stadiums anywhe...</td>\n",
       "      <td>non_argument</td>\n",
       "    </tr>\n",
       "    <tr>\n",
       "      <th>1224</th>\n",
       "      <td>Who did Millard Fillmore fall in love with?</td>\n",
       "      <td>non_argument</td>\n",
       "    </tr>\n",
       "    <tr>\n",
       "      <th>1225</th>\n",
       "      <td>What religion do most Uruguayans profess?</td>\n",
       "      <td>non_argument</td>\n",
       "    </tr>\n",
       "    <tr>\n",
       "      <th>1226</th>\n",
       "      <td>How many arms does an octopus have?</td>\n",
       "      <td>non_argument</td>\n",
       "    </tr>\n",
       "    <tr>\n",
       "      <th>1227</th>\n",
       "      <td>Is it the world 's fourth most populous countr...</td>\n",
       "      <td>non_argument</td>\n",
       "    </tr>\n",
       "  </tbody>\n",
       "</table>\n",
       "<p>1228 rows × 2 columns</p>\n",
       "</div>"
      ],
      "text/plain": [
       "                                               sentence    annotation\n",
       "0     What year were the first xylophone artifacts f...  non_argument\n",
       "1     Were the treaties signed in 1947 and 1948 with...  non_argument\n",
       "2          How many municipalities are within Oberland?  non_argument\n",
       "3     For how many years did Charles-Augustin de Cou...  non_argument\n",
       "4                          Where was Isaac Newton born?  non_argument\n",
       "...                                                 ...           ...\n",
       "1223  Give an example of the largest stadiums anywhe...  non_argument\n",
       "1224        Who did Millard Fillmore fall in love with?  non_argument\n",
       "1225          What religion do most Uruguayans profess?  non_argument\n",
       "1226                How many arms does an octopus have?  non_argument\n",
       "1227  Is it the world 's fourth most populous countr...  non_argument\n",
       "\n",
       "[1228 rows x 2 columns]"
      ]
     },
     "execution_count": 8,
     "metadata": {},
     "output_type": "execute_result"
    }
   ],
   "source": [
    "df_questions_1"
   ]
  },
  {
   "cell_type": "code",
   "execution_count": 9,
   "id": "85d43e72",
   "metadata": {},
   "outputs": [
    {
     "data": {
      "text/html": [
       "<div>\n",
       "<style scoped>\n",
       "    .dataframe tbody tr th:only-of-type {\n",
       "        vertical-align: middle;\n",
       "    }\n",
       "\n",
       "    .dataframe tbody tr th {\n",
       "        vertical-align: top;\n",
       "    }\n",
       "\n",
       "    .dataframe thead th {\n",
       "        text-align: right;\n",
       "    }\n",
       "</style>\n",
       "<table border=\"1\" class=\"dataframe\">\n",
       "  <thead>\n",
       "    <tr style=\"text-align: right;\">\n",
       "      <th></th>\n",
       "      <th>sentence</th>\n",
       "      <th>annotation</th>\n",
       "    </tr>\n",
       "  </thead>\n",
       "  <tbody>\n",
       "    <tr>\n",
       "      <th>1228</th>\n",
       "      <td>Can turtles take many years to reach breeding ...</td>\n",
       "      <td>non_argument</td>\n",
       "    </tr>\n",
       "    <tr>\n",
       "      <th>1229</th>\n",
       "      <td>When did Baldassare Castiglione, author of Il ...</td>\n",
       "      <td>non_argument</td>\n",
       "    </tr>\n",
       "    <tr>\n",
       "      <th>1230</th>\n",
       "      <td>Where do leopards often hide their kills?</td>\n",
       "      <td>non_argument</td>\n",
       "    </tr>\n",
       "    <tr>\n",
       "      <th>1231</th>\n",
       "      <td>In 1820, Avogadro became a professor of physic...</td>\n",
       "      <td>non_argument</td>\n",
       "    </tr>\n",
       "    <tr>\n",
       "      <th>1232</th>\n",
       "      <td>Did the Department of the Interior not charge ...</td>\n",
       "      <td>non_argument</td>\n",
       "    </tr>\n",
       "    <tr>\n",
       "      <th>...</th>\n",
       "      <td>...</td>\n",
       "      <td>...</td>\n",
       "    </tr>\n",
       "    <tr>\n",
       "      <th>2451</th>\n",
       "      <td>When did Lincoln first serve as President?</td>\n",
       "      <td>non_argument</td>\n",
       "    </tr>\n",
       "    <tr>\n",
       "      <th>2452</th>\n",
       "      <td>Who helped to fund Roosevelt's African safari?</td>\n",
       "      <td>non_argument</td>\n",
       "    </tr>\n",
       "    <tr>\n",
       "      <th>2453</th>\n",
       "      <td>What did The Legal Tender Act of 1862 establish?</td>\n",
       "      <td>non_argument</td>\n",
       "    </tr>\n",
       "    <tr>\n",
       "      <th>2454</th>\n",
       "      <td>What does the PRC government classify as liter...</td>\n",
       "      <td>non_argument</td>\n",
       "    </tr>\n",
       "    <tr>\n",
       "      <th>2455</th>\n",
       "      <td>What is given for the number of native speakers?</td>\n",
       "      <td>non_argument</td>\n",
       "    </tr>\n",
       "  </tbody>\n",
       "</table>\n",
       "<p>1228 rows × 2 columns</p>\n",
       "</div>"
      ],
      "text/plain": [
       "                                               sentence    annotation\n",
       "1228  Can turtles take many years to reach breeding ...  non_argument\n",
       "1229  When did Baldassare Castiglione, author of Il ...  non_argument\n",
       "1230          Where do leopards often hide their kills?  non_argument\n",
       "1231  In 1820, Avogadro became a professor of physic...  non_argument\n",
       "1232  Did the Department of the Interior not charge ...  non_argument\n",
       "...                                                 ...           ...\n",
       "2451         When did Lincoln first serve as President?  non_argument\n",
       "2452     Who helped to fund Roosevelt's African safari?  non_argument\n",
       "2453   What did The Legal Tender Act of 1862 establish?  non_argument\n",
       "2454  What does the PRC government classify as liter...  non_argument\n",
       "2455   What is given for the number of native speakers?  non_argument\n",
       "\n",
       "[1228 rows x 2 columns]"
      ]
     },
     "execution_count": 9,
     "metadata": {},
     "output_type": "execute_result"
    }
   ],
   "source": [
    "df_questions_2"
   ]
  },
  {
   "cell_type": "code",
   "execution_count": null,
   "id": "68c4cd3b",
   "metadata": {},
   "outputs": [],
   "source": []
  },
  {
   "cell_type": "markdown",
   "id": "a2a2dc65",
   "metadata": {},
   "source": [
    "## Prepare non_arguments from random sentences"
   ]
  },
  {
   "cell_type": "code",
   "execution_count": 10,
   "id": "fff46961",
   "metadata": {},
   "outputs": [],
   "source": [
    "df_random_sents = pd.read_csv('non_arguments_random_raw.csv', sep='\\t', encoding='utf-8', usecols=['sentence', 'annotation'])\n",
    "# shuffle df\n",
    "df_random_sents = df_random_sents.sample(frac=1).reset_index(drop=True)\n",
    "df_random_sents_1 = df_random_sents[:4822]\n",
    "df_random_sents_2 = df_random_sents[4823:9645]"
   ]
  },
  {
   "cell_type": "code",
   "execution_count": 11,
   "id": "a4cb7db6",
   "metadata": {},
   "outputs": [
    {
     "data": {
      "text/html": [
       "<div>\n",
       "<style scoped>\n",
       "    .dataframe tbody tr th:only-of-type {\n",
       "        vertical-align: middle;\n",
       "    }\n",
       "\n",
       "    .dataframe tbody tr th {\n",
       "        vertical-align: top;\n",
       "    }\n",
       "\n",
       "    .dataframe thead th {\n",
       "        text-align: right;\n",
       "    }\n",
       "</style>\n",
       "<table border=\"1\" class=\"dataframe\">\n",
       "  <thead>\n",
       "    <tr style=\"text-align: right;\">\n",
       "      <th></th>\n",
       "      <th>sentence</th>\n",
       "      <th>annotation</th>\n",
       "    </tr>\n",
       "  </thead>\n",
       "  <tbody>\n",
       "    <tr>\n",
       "      <th>0</th>\n",
       "      <td>Citizens express Gravetye Manor, the home of W...</td>\n",
       "      <td>non_argument</td>\n",
       "    </tr>\n",
       "    <tr>\n",
       "      <th>1</th>\n",
       "      <td>Certain words advanced their own country. The ...</td>\n",
       "      <td>non_argument</td>\n",
       "    </tr>\n",
       "    <tr>\n",
       "      <th>2</th>\n",
       "      <td>Unification process, from Judaea via Egypt bet...</td>\n",
       "      <td>non_argument</td>\n",
       "    </tr>\n",
       "    <tr>\n",
       "      <th>3</th>\n",
       "      <td>To puberty, this belief, lasted as late as the...</td>\n",
       "      <td>non_argument</td>\n",
       "    </tr>\n",
       "    <tr>\n",
       "      <th>4</th>\n",
       "      <td>1935 alone, Fossil remains of more moderate co...</td>\n",
       "      <td>non_argument</td>\n",
       "    </tr>\n",
       "    <tr>\n",
       "      <th>...</th>\n",
       "      <td>...</td>\n",
       "      <td>...</td>\n",
       "    </tr>\n",
       "    <tr>\n",
       "      <th>4817</th>\n",
       "      <td>One entity rose. In 1935, the regime to such g...</td>\n",
       "      <td>non_argument</td>\n",
       "    </tr>\n",
       "    <tr>\n",
       "      <th>4818</th>\n",
       "      <td>Yellowstone offers these taxes are assessed in...</td>\n",
       "      <td>non_argument</td>\n",
       "    </tr>\n",
       "    <tr>\n",
       "      <th>4819</th>\n",
       "      <td>Wealthy. \\n With tensions mounting between Ger...</td>\n",
       "      <td>non_argument</td>\n",
       "    </tr>\n",
       "    <tr>\n",
       "      <th>4820</th>\n",
       "      <td>Bushmen in rate, controlled inflation and publ...</td>\n",
       "      <td>non_argument</td>\n",
       "    </tr>\n",
       "    <tr>\n",
       "      <th>4821</th>\n",
       "      <td>At Silicon be renamed \"Atlantica-Pacifica,\" wh...</td>\n",
       "      <td>non_argument</td>\n",
       "    </tr>\n",
       "  </tbody>\n",
       "</table>\n",
       "<p>4822 rows × 2 columns</p>\n",
       "</div>"
      ],
      "text/plain": [
       "                                               sentence    annotation\n",
       "0     Citizens express Gravetye Manor, the home of W...  non_argument\n",
       "1     Certain words advanced their own country. The ...  non_argument\n",
       "2     Unification process, from Judaea via Egypt bet...  non_argument\n",
       "3     To puberty, this belief, lasted as late as the...  non_argument\n",
       "4     1935 alone, Fossil remains of more moderate co...  non_argument\n",
       "...                                                 ...           ...\n",
       "4817  One entity rose. In 1935, the regime to such g...  non_argument\n",
       "4818  Yellowstone offers these taxes are assessed in...  non_argument\n",
       "4819  Wealthy. \\n With tensions mounting between Ger...  non_argument\n",
       "4820  Bushmen in rate, controlled inflation and publ...  non_argument\n",
       "4821  At Silicon be renamed \"Atlantica-Pacifica,\" wh...  non_argument\n",
       "\n",
       "[4822 rows x 2 columns]"
      ]
     },
     "execution_count": 11,
     "metadata": {},
     "output_type": "execute_result"
    }
   ],
   "source": [
    "df_random_sents_1"
   ]
  },
  {
   "cell_type": "code",
   "execution_count": 12,
   "id": "cf83c0c8",
   "metadata": {},
   "outputs": [
    {
     "data": {
      "text/html": [
       "<div>\n",
       "<style scoped>\n",
       "    .dataframe tbody tr th:only-of-type {\n",
       "        vertical-align: middle;\n",
       "    }\n",
       "\n",
       "    .dataframe tbody tr th {\n",
       "        vertical-align: top;\n",
       "    }\n",
       "\n",
       "    .dataframe thead th {\n",
       "        text-align: right;\n",
       "    }\n",
       "</style>\n",
       "<table border=\"1\" class=\"dataframe\">\n",
       "  <thead>\n",
       "    <tr style=\"text-align: right;\">\n",
       "      <th></th>\n",
       "      <th>sentence</th>\n",
       "      <th>annotation</th>\n",
       "    </tr>\n",
       "  </thead>\n",
       "  <tbody>\n",
       "    <tr>\n",
       "      <th>4823</th>\n",
       "      <td>Those experiments all candidates in the late 1...</td>\n",
       "      <td>non_argument</td>\n",
       "    </tr>\n",
       "    <tr>\n",
       "      <th>4824</th>\n",
       "      <td>Japan \\n disproportionately affected by the oc...</td>\n",
       "      <td>non_argument</td>\n",
       "    </tr>\n",
       "    <tr>\n",
       "      <th>4825</th>\n",
       "      <td>Violations occur Spanish missionaries began se...</td>\n",
       "      <td>non_argument</td>\n",
       "    </tr>\n",
       "    <tr>\n",
       "      <th>4826</th>\n",
       "      <td>With issues exceptions. There is varying and s...</td>\n",
       "      <td>non_argument</td>\n",
       "    </tr>\n",
       "    <tr>\n",
       "      <th>4827</th>\n",
       "      <td>(OWL). \\n platforms have been situations where...</td>\n",
       "      <td>non_argument</td>\n",
       "    </tr>\n",
       "    <tr>\n",
       "      <th>...</th>\n",
       "      <td>...</td>\n",
       "      <td>...</td>\n",
       "    </tr>\n",
       "    <tr>\n",
       "      <th>9640</th>\n",
       "      <td>Store water. properties which determine climat...</td>\n",
       "      <td>non_argument</td>\n",
       "    </tr>\n",
       "    <tr>\n",
       "      <th>9641</th>\n",
       "      <td>Satellite TV self-governing Dominion to the gr...</td>\n",
       "      <td>non_argument</td>\n",
       "    </tr>\n",
       "    <tr>\n",
       "      <th>9642</th>\n",
       "      <td>Previous scholars, including Lugdunum (present...</td>\n",
       "      <td>non_argument</td>\n",
       "    </tr>\n",
       "    <tr>\n",
       "      <th>9643</th>\n",
       "      <td>Peru, and predict how long it will occur less ...</td>\n",
       "      <td>non_argument</td>\n",
       "    </tr>\n",
       "    <tr>\n",
       "      <th>9644</th>\n",
       "      <td>(V8, Java of \"Christianity and Christendom\"; m...</td>\n",
       "      <td>non_argument</td>\n",
       "    </tr>\n",
       "  </tbody>\n",
       "</table>\n",
       "<p>4822 rows × 2 columns</p>\n",
       "</div>"
      ],
      "text/plain": [
       "                                               sentence    annotation\n",
       "4823  Those experiments all candidates in the late 1...  non_argument\n",
       "4824  Japan \\n disproportionately affected by the oc...  non_argument\n",
       "4825  Violations occur Spanish missionaries began se...  non_argument\n",
       "4826  With issues exceptions. There is varying and s...  non_argument\n",
       "4827  (OWL). \\n platforms have been situations where...  non_argument\n",
       "...                                                 ...           ...\n",
       "9640  Store water. properties which determine climat...  non_argument\n",
       "9641  Satellite TV self-governing Dominion to the gr...  non_argument\n",
       "9642  Previous scholars, including Lugdunum (present...  non_argument\n",
       "9643  Peru, and predict how long it will occur less ...  non_argument\n",
       "9644  (V8, Java of \"Christianity and Christendom\"; m...  non_argument\n",
       "\n",
       "[4822 rows x 2 columns]"
      ]
     },
     "execution_count": 12,
     "metadata": {},
     "output_type": "execute_result"
    }
   ],
   "source": [
    "df_random_sents_2"
   ]
  },
  {
   "cell_type": "code",
   "execution_count": null,
   "id": "b778de7d",
   "metadata": {},
   "outputs": [],
   "source": []
  },
  {
   "cell_type": "markdown",
   "id": "4561402b",
   "metadata": {},
   "source": [
    "## Concatenate arguments with non_arguments"
   ]
  },
  {
   "cell_type": "markdown",
   "id": "ffabcb29",
   "metadata": {},
   "source": [
    "### Create raw domain 1 dataframe"
   ]
  },
  {
   "cell_type": "code",
   "execution_count": 13,
   "id": "17ead006",
   "metadata": {},
   "outputs": [],
   "source": [
    "df_domain_1 = pd.concat([df_domain_1, df_questions_1, df_random_sents_1], ignore_index=True)\n",
    "# shuffle df\n",
    "df_domain_1 = df_domain_1.sample(frac=1).reset_index(drop=True)"
   ]
  },
  {
   "cell_type": "code",
   "execution_count": 14,
   "id": "f98d40e4",
   "metadata": {},
   "outputs": [
    {
     "data": {
      "text/html": [
       "<div>\n",
       "<style scoped>\n",
       "    .dataframe tbody tr th:only-of-type {\n",
       "        vertical-align: middle;\n",
       "    }\n",
       "\n",
       "    .dataframe tbody tr th {\n",
       "        vertical-align: top;\n",
       "    }\n",
       "\n",
       "    .dataframe thead th {\n",
       "        text-align: right;\n",
       "    }\n",
       "</style>\n",
       "<table border=\"1\" class=\"dataframe\">\n",
       "  <thead>\n",
       "    <tr style=\"text-align: right;\">\n",
       "      <th></th>\n",
       "      <th>sentence</th>\n",
       "      <th>annotation</th>\n",
       "    </tr>\n",
       "  </thead>\n",
       "  <tbody>\n",
       "    <tr>\n",
       "      <th>0</th>\n",
       "      <td>The model monthly Notizie scritte, which cost ...</td>\n",
       "      <td>non_argument</td>\n",
       "    </tr>\n",
       "    <tr>\n",
       "      <th>1</th>\n",
       "      <td>Are trumpets constructed of brass?</td>\n",
       "      <td>non_argument</td>\n",
       "    </tr>\n",
       "    <tr>\n",
       "      <th>2</th>\n",
       "      <td>According to proponents of these policies , un...</td>\n",
       "      <td>argument</td>\n",
       "    </tr>\n",
       "    <tr>\n",
       "      <th>3</th>\n",
       "      <td>Cantons are The Abrahamic religions of Judaism...</td>\n",
       "      <td>non_argument</td>\n",
       "    </tr>\n",
       "    <tr>\n",
       "      <th>4</th>\n",
       "      <td>Historians sympathized the Millau Viaduct, the...</td>\n",
       "      <td>non_argument</td>\n",
       "    </tr>\n",
       "    <tr>\n",
       "      <th>...</th>\n",
       "      <td>...</td>\n",
       "      <td>...</td>\n",
       "    </tr>\n",
       "    <tr>\n",
       "      <th>12095</th>\n",
       "      <td>Cooling those operations often requires a whol...</td>\n",
       "      <td>argument</td>\n",
       "    </tr>\n",
       "    <tr>\n",
       "      <th>12096</th>\n",
       "      <td>Connect with on cheap, off-white paper known a...</td>\n",
       "      <td>non_argument</td>\n",
       "    </tr>\n",
       "    <tr>\n",
       "      <th>12097</th>\n",
       "      <td>The continent ) is equal to zero the chemical ...</td>\n",
       "      <td>non_argument</td>\n",
       "    </tr>\n",
       "    <tr>\n",
       "      <th>12098</th>\n",
       "      <td>Are meant view Penrose discusses in his long c...</td>\n",
       "      <td>non_argument</td>\n",
       "    </tr>\n",
       "    <tr>\n",
       "      <th>12099</th>\n",
       "      <td>Human beings are not simply genes and molecules .</td>\n",
       "      <td>argument</td>\n",
       "    </tr>\n",
       "  </tbody>\n",
       "</table>\n",
       "<p>12100 rows × 2 columns</p>\n",
       "</div>"
      ],
      "text/plain": [
       "                                                sentence    annotation\n",
       "0      The model monthly Notizie scritte, which cost ...  non_argument\n",
       "1                     Are trumpets constructed of brass?  non_argument\n",
       "2      According to proponents of these policies , un...      argument\n",
       "3      Cantons are The Abrahamic religions of Judaism...  non_argument\n",
       "4      Historians sympathized the Millau Viaduct, the...  non_argument\n",
       "...                                                  ...           ...\n",
       "12095  Cooling those operations often requires a whol...      argument\n",
       "12096  Connect with on cheap, off-white paper known a...  non_argument\n",
       "12097  The continent ) is equal to zero the chemical ...  non_argument\n",
       "12098  Are meant view Penrose discusses in his long c...  non_argument\n",
       "12099  Human beings are not simply genes and molecules .      argument\n",
       "\n",
       "[12100 rows x 2 columns]"
      ]
     },
     "execution_count": 14,
     "metadata": {},
     "output_type": "execute_result"
    }
   ],
   "source": [
    "df_domain_1"
   ]
  },
  {
   "cell_type": "code",
   "execution_count": 15,
   "id": "13ca2d4e",
   "metadata": {},
   "outputs": [
    {
     "data": {
      "text/plain": [
       "non_argument    6050\n",
       "argument        6050\n",
       "Name: annotation, dtype: int64"
      ]
     },
     "execution_count": 15,
     "metadata": {},
     "output_type": "execute_result"
    }
   ],
   "source": [
    "df_domain_1['annotation'].value_counts()"
   ]
  },
  {
   "cell_type": "code",
   "execution_count": null,
   "id": "f11fd020",
   "metadata": {},
   "outputs": [],
   "source": []
  },
  {
   "cell_type": "markdown",
   "id": "57a573b7",
   "metadata": {},
   "source": [
    "### Create raw domain 2 dataframe"
   ]
  },
  {
   "cell_type": "code",
   "execution_count": 16,
   "id": "3060b635",
   "metadata": {},
   "outputs": [],
   "source": [
    "df_domain_2 = pd.concat([df_domain_2, df_questions_2, df_random_sents_2], ignore_index=True)\n",
    "# shuffle df\n",
    "df_domain_2 = df_domain_2.sample(frac=1).reset_index(drop=True)"
   ]
  },
  {
   "cell_type": "code",
   "execution_count": 17,
   "id": "814c9066",
   "metadata": {},
   "outputs": [
    {
     "data": {
      "text/html": [
       "<div>\n",
       "<style scoped>\n",
       "    .dataframe tbody tr th:only-of-type {\n",
       "        vertical-align: middle;\n",
       "    }\n",
       "\n",
       "    .dataframe tbody tr th {\n",
       "        vertical-align: top;\n",
       "    }\n",
       "\n",
       "    .dataframe thead th {\n",
       "        text-align: right;\n",
       "    }\n",
       "</style>\n",
       "<table border=\"1\" class=\"dataframe\">\n",
       "  <thead>\n",
       "    <tr style=\"text-align: right;\">\n",
       "      <th></th>\n",
       "      <th>sentence</th>\n",
       "      <th>annotation</th>\n",
       "    </tr>\n",
       "  </thead>\n",
       "  <tbody>\n",
       "    <tr>\n",
       "      <th>0</th>\n",
       "      <td>Teachers will not find it difficult to make st...</td>\n",
       "      <td>argument</td>\n",
       "    </tr>\n",
       "    <tr>\n",
       "      <th>1</th>\n",
       "      <td>Were present of systematic nursing and hospita...</td>\n",
       "      <td>non_argument</td>\n",
       "    </tr>\n",
       "    <tr>\n",
       "      <th>2</th>\n",
       "      <td>The distance fact. A form of data being transf...</td>\n",
       "      <td>non_argument</td>\n",
       "    </tr>\n",
       "    <tr>\n",
       "      <th>3</th>\n",
       "      <td>when students finished their high schools, the...</td>\n",
       "      <td>argument</td>\n",
       "    </tr>\n",
       "    <tr>\n",
       "      <th>4</th>\n",
       "      <td>Strategic bombing sailors sometimes also other...</td>\n",
       "      <td>non_argument</td>\n",
       "    </tr>\n",
       "    <tr>\n",
       "      <th>...</th>\n",
       "      <td>...</td>\n",
       "      <td>...</td>\n",
       "    </tr>\n",
       "    <tr>\n",
       "      <th>12095</th>\n",
       "      <td>For all of them we have to ask for a permissio...</td>\n",
       "      <td>argument</td>\n",
       "    </tr>\n",
       "    <tr>\n",
       "      <th>12096</th>\n",
       "      <td>children should learn to manage their own mone...</td>\n",
       "      <td>argument</td>\n",
       "    </tr>\n",
       "    <tr>\n",
       "      <th>12097</th>\n",
       "      <td>if a low-level employee desire to enhance his ...</td>\n",
       "      <td>argument</td>\n",
       "    </tr>\n",
       "    <tr>\n",
       "      <th>12098</th>\n",
       "      <td>Are among his most famous works the proto-Cubi...</td>\n",
       "      <td>non_argument</td>\n",
       "    </tr>\n",
       "    <tr>\n",
       "      <th>12099</th>\n",
       "      <td>they will have more and more friends and relat...</td>\n",
       "      <td>argument</td>\n",
       "    </tr>\n",
       "  </tbody>\n",
       "</table>\n",
       "<p>12100 rows × 2 columns</p>\n",
       "</div>"
      ],
      "text/plain": [
       "                                                sentence    annotation\n",
       "0      Teachers will not find it difficult to make st...      argument\n",
       "1      Were present of systematic nursing and hospita...  non_argument\n",
       "2      The distance fact. A form of data being transf...  non_argument\n",
       "3      when students finished their high schools, the...      argument\n",
       "4      Strategic bombing sailors sometimes also other...  non_argument\n",
       "...                                                  ...           ...\n",
       "12095  For all of them we have to ask for a permissio...      argument\n",
       "12096  children should learn to manage their own mone...      argument\n",
       "12097  if a low-level employee desire to enhance his ...      argument\n",
       "12098  Are among his most famous works the proto-Cubi...  non_argument\n",
       "12099  they will have more and more friends and relat...      argument\n",
       "\n",
       "[12100 rows x 2 columns]"
      ]
     },
     "execution_count": 17,
     "metadata": {},
     "output_type": "execute_result"
    }
   ],
   "source": [
    "df_domain_2"
   ]
  },
  {
   "cell_type": "code",
   "execution_count": 18,
   "id": "13294600",
   "metadata": {},
   "outputs": [
    {
     "data": {
      "text/plain": [
       "argument        6050\n",
       "non_argument    6050\n",
       "Name: annotation, dtype: int64"
      ]
     },
     "execution_count": 18,
     "metadata": {},
     "output_type": "execute_result"
    }
   ],
   "source": [
    "df_domain_2['annotation'].value_counts()"
   ]
  },
  {
   "cell_type": "code",
   "execution_count": null,
   "id": "c9109d6b",
   "metadata": {},
   "outputs": [],
   "source": []
  },
  {
   "cell_type": "markdown",
   "id": "628b685a",
   "metadata": {},
   "source": [
    "## Preprocessing\n",
    "- delete numbers\n",
    "- handle apostrophes like in don't -> do not\n",
    "- delete punctuation\n",
    "- delete single characters\n",
    "- delete multiple spaces\n",
    "- convert to lower case\n",
    "- tokenization\n",
    "- stop word removal"
   ]
  },
  {
   "cell_type": "markdown",
   "id": "7b43e86c",
   "metadata": {},
   "source": [
    "### preprocess domain 1 dataframe"
   ]
  },
  {
   "cell_type": "code",
   "execution_count": 19,
   "id": "aec9017b",
   "metadata": {},
   "outputs": [],
   "source": [
    "sentences = df_domain_1['sentence']\n",
    "preprocessend_sents = []\n",
    "\n",
    "for sent in sentences:\n",
    "    # remove numbers\n",
    "    sent = ''.join(i for i in sent if not i.isdigit())\n",
    "    \n",
    "    # handle apostrophes like in don't -> do not\n",
    "    sent = sent.replace(\"n't\", \" not\")\n",
    "    \n",
    "    # remove punctuation\n",
    "    sent = sent.translate(str.maketrans('', '', string.punctuation))\n",
    "    \n",
    "    # delete singele characters and 2 character words\n",
    "    sent = ' '.join([w for w in sent.split() if len(w)>2])\n",
    "    \n",
    "    # delete multiple spaces\n",
    "    sent = re.sub(' +', ' ', sent)\n",
    "    \n",
    "    # convert to lower case\n",
    "    sent = sent.lower()\n",
    "    \n",
    "    # tokenization\n",
    "    word_list = sent.split()\n",
    "    \n",
    "    # stop word removal\n",
    "    word_list = [w for w in word_list if not w in stop_words]\n",
    "    \n",
    "    # concatenate list back to string\n",
    "    sent = ' '.join(word_list)\n",
    "    \n",
    "    preprocessend_sents.append(sent)\n",
    "    \n",
    "df_domain_1['sentence'] = preprocessend_sents"
   ]
  },
  {
   "cell_type": "code",
   "execution_count": 20,
   "id": "377fe3e9",
   "metadata": {},
   "outputs": [
    {
     "data": {
      "text/html": [
       "<div>\n",
       "<style scoped>\n",
       "    .dataframe tbody tr th:only-of-type {\n",
       "        vertical-align: middle;\n",
       "    }\n",
       "\n",
       "    .dataframe tbody tr th {\n",
       "        vertical-align: top;\n",
       "    }\n",
       "\n",
       "    .dataframe thead th {\n",
       "        text-align: right;\n",
       "    }\n",
       "</style>\n",
       "<table border=\"1\" class=\"dataframe\">\n",
       "  <thead>\n",
       "    <tr style=\"text-align: right;\">\n",
       "      <th></th>\n",
       "      <th>sentence</th>\n",
       "      <th>annotation</th>\n",
       "    </tr>\n",
       "  </thead>\n",
       "  <tbody>\n",
       "    <tr>\n",
       "      <th>0</th>\n",
       "      <td>model monthly notizie scritte cost around bill...</td>\n",
       "      <td>non_argument</td>\n",
       "    </tr>\n",
       "    <tr>\n",
       "      <th>1</th>\n",
       "      <td>trumpets constructed brass</td>\n",
       "      <td>non_argument</td>\n",
       "    </tr>\n",
       "    <tr>\n",
       "      <th>2</th>\n",
       "      <td>according proponents policies uniforms improve...</td>\n",
       "      <td>argument</td>\n",
       "    </tr>\n",
       "    <tr>\n",
       "      <th>3</th>\n",
       "      <td>cantons abrahamic religions judaism christiani...</td>\n",
       "      <td>non_argument</td>\n",
       "    </tr>\n",
       "    <tr>\n",
       "      <th>4</th>\n",
       "      <td>historians sympathized millau viaduct worlds p...</td>\n",
       "      <td>non_argument</td>\n",
       "    </tr>\n",
       "    <tr>\n",
       "      <th>...</th>\n",
       "      <td>...</td>\n",
       "      <td>...</td>\n",
       "    </tr>\n",
       "    <tr>\n",
       "      <th>12095</th>\n",
       "      <td>cooling operations often requires whole lot wa...</td>\n",
       "      <td>argument</td>\n",
       "    </tr>\n",
       "    <tr>\n",
       "      <th>12096</th>\n",
       "      <td>connect cheap offwhite paper known rhône valle...</td>\n",
       "      <td>non_argument</td>\n",
       "    </tr>\n",
       "    <tr>\n",
       "      <th>12097</th>\n",
       "      <td>continent equal zero chemical formula often</td>\n",
       "      <td>non_argument</td>\n",
       "    </tr>\n",
       "    <tr>\n",
       "      <th>12098</th>\n",
       "      <td>meant view penrose discusses long career also ...</td>\n",
       "      <td>non_argument</td>\n",
       "    </tr>\n",
       "    <tr>\n",
       "      <th>12099</th>\n",
       "      <td>human beings simply genes molecules</td>\n",
       "      <td>argument</td>\n",
       "    </tr>\n",
       "  </tbody>\n",
       "</table>\n",
       "<p>12100 rows × 2 columns</p>\n",
       "</div>"
      ],
      "text/plain": [
       "                                                sentence    annotation\n",
       "0      model monthly notizie scritte cost around bill...  non_argument\n",
       "1                             trumpets constructed brass  non_argument\n",
       "2      according proponents policies uniforms improve...      argument\n",
       "3      cantons abrahamic religions judaism christiani...  non_argument\n",
       "4      historians sympathized millau viaduct worlds p...  non_argument\n",
       "...                                                  ...           ...\n",
       "12095  cooling operations often requires whole lot wa...      argument\n",
       "12096  connect cheap offwhite paper known rhône valle...  non_argument\n",
       "12097        continent equal zero chemical formula often  non_argument\n",
       "12098  meant view penrose discusses long career also ...  non_argument\n",
       "12099                human beings simply genes molecules      argument\n",
       "\n",
       "[12100 rows x 2 columns]"
      ]
     },
     "execution_count": 20,
     "metadata": {},
     "output_type": "execute_result"
    }
   ],
   "source": [
    "df_domain_1"
   ]
  },
  {
   "cell_type": "code",
   "execution_count": 21,
   "id": "9c593831",
   "metadata": {},
   "outputs": [
    {
     "data": {
      "text/plain": [
       "non_argument    6050\n",
       "argument        6050\n",
       "Name: annotation, dtype: int64"
      ]
     },
     "execution_count": 21,
     "metadata": {},
     "output_type": "execute_result"
    }
   ],
   "source": [
    "df_domain_1['annotation'].value_counts()"
   ]
  },
  {
   "cell_type": "code",
   "execution_count": 22,
   "id": "29a05ef0",
   "metadata": {},
   "outputs": [],
   "source": [
    "df_domain_1.to_csv(\"domain_1_set_clean.csv\", sep='\\t', encoding='utf-8')"
   ]
  },
  {
   "cell_type": "code",
   "execution_count": 23,
   "id": "29a698ac",
   "metadata": {},
   "outputs": [
    {
     "data": {
      "text/plain": [
       "12100"
      ]
     },
     "execution_count": 23,
     "metadata": {},
     "output_type": "execute_result"
    }
   ],
   "source": [
    "len(df_domain_1)"
   ]
  },
  {
   "cell_type": "code",
   "execution_count": 24,
   "id": "a6b7c029",
   "metadata": {},
   "outputs": [],
   "source": [
    "df_domain_1 = df_domain_1[df_domain_1['sentence'].notna()]"
   ]
  },
  {
   "cell_type": "code",
   "execution_count": 25,
   "id": "01622c22",
   "metadata": {},
   "outputs": [
    {
     "data": {
      "text/plain": [
       "12100"
      ]
     },
     "execution_count": 25,
     "metadata": {},
     "output_type": "execute_result"
    }
   ],
   "source": [
    "len(df_domain_1)"
   ]
  },
  {
   "cell_type": "code",
   "execution_count": null,
   "id": "31f82162",
   "metadata": {},
   "outputs": [],
   "source": []
  },
  {
   "cell_type": "code",
   "execution_count": null,
   "id": "09d49c18",
   "metadata": {},
   "outputs": [],
   "source": []
  },
  {
   "cell_type": "markdown",
   "id": "85b3e9ec",
   "metadata": {},
   "source": [
    "### preprocess domain 2 dataframe"
   ]
  },
  {
   "cell_type": "code",
   "execution_count": 26,
   "id": "407c564b",
   "metadata": {},
   "outputs": [],
   "source": [
    "sentences = df_domain_2['sentence']\n",
    "preprocessend_sents = []\n",
    "\n",
    "for sent in sentences:\n",
    "    # remove numbers\n",
    "    sent = ''.join(i for i in sent if not i.isdigit())\n",
    "    \n",
    "    # handle apostrophes like in don't -> do not\n",
    "    sent = sent.replace(\"n't\", \" not\")\n",
    "    \n",
    "    # remove punctuation\n",
    "    sent = sent.translate(str.maketrans('', '', string.punctuation))\n",
    "    \n",
    "    # delete singele characters and 2 character words\n",
    "    sent = ' '.join([w for w in sent.split() if len(w)>2])\n",
    "    \n",
    "    # delete multiple spaces\n",
    "    sent = re.sub(' +', ' ', sent)\n",
    "    \n",
    "    # convert to lower case\n",
    "    sent = sent.lower()\n",
    "    \n",
    "    # tokenization\n",
    "    word_list = sent.split()\n",
    "    \n",
    "    # stop word removal\n",
    "    word_list = [w for w in word_list if not w in stop_words]\n",
    "    \n",
    "    # concatenate list back to string\n",
    "    sent = ' '.join(word_list)\n",
    "    \n",
    "    preprocessend_sents.append(sent)\n",
    "    \n",
    "df_domain_2['sentence'] = preprocessend_sents"
   ]
  },
  {
   "cell_type": "code",
   "execution_count": 27,
   "id": "da01fca3",
   "metadata": {},
   "outputs": [
    {
     "data": {
      "text/html": [
       "<div>\n",
       "<style scoped>\n",
       "    .dataframe tbody tr th:only-of-type {\n",
       "        vertical-align: middle;\n",
       "    }\n",
       "\n",
       "    .dataframe tbody tr th {\n",
       "        vertical-align: top;\n",
       "    }\n",
       "\n",
       "    .dataframe thead th {\n",
       "        text-align: right;\n",
       "    }\n",
       "</style>\n",
       "<table border=\"1\" class=\"dataframe\">\n",
       "  <thead>\n",
       "    <tr style=\"text-align: right;\">\n",
       "      <th></th>\n",
       "      <th>sentence</th>\n",
       "      <th>annotation</th>\n",
       "    </tr>\n",
       "  </thead>\n",
       "  <tbody>\n",
       "    <tr>\n",
       "      <th>0</th>\n",
       "      <td>teachers find difficult make students learn ne...</td>\n",
       "      <td>argument</td>\n",
       "    </tr>\n",
       "    <tr>\n",
       "      <th>1</th>\n",
       "      <td>present systematic nursing hospitals primary p...</td>\n",
       "      <td>non_argument</td>\n",
       "    </tr>\n",
       "    <tr>\n",
       "      <th>2</th>\n",
       "      <td>distance fact form data transferred computer</td>\n",
       "      <td>non_argument</td>\n",
       "    </tr>\n",
       "    <tr>\n",
       "      <th>3</th>\n",
       "      <td>students finished high schools confused subjec...</td>\n",
       "      <td>argument</td>\n",
       "    </tr>\n",
       "    <tr>\n",
       "      <th>4</th>\n",
       "      <td>strategic bombing sailors sometimes also symbo...</td>\n",
       "      <td>non_argument</td>\n",
       "    </tr>\n",
       "    <tr>\n",
       "      <th>...</th>\n",
       "      <td>...</td>\n",
       "      <td>...</td>\n",
       "    </tr>\n",
       "    <tr>\n",
       "      <th>12095</th>\n",
       "      <td>ask permission time allowed</td>\n",
       "      <td>argument</td>\n",
       "    </tr>\n",
       "    <tr>\n",
       "      <th>12096</th>\n",
       "      <td>children learn manage money young age</td>\n",
       "      <td>argument</td>\n",
       "    </tr>\n",
       "    <tr>\n",
       "      <th>12097</th>\n",
       "      <td>lowlevel employee desire enhance position fair...</td>\n",
       "      <td>argument</td>\n",
       "    </tr>\n",
       "    <tr>\n",
       "      <th>12098</th>\n",
       "      <td>among famous works protocubist les demoiselles...</td>\n",
       "      <td>non_argument</td>\n",
       "    </tr>\n",
       "    <tr>\n",
       "      <th>12099</th>\n",
       "      <td>friends relationships</td>\n",
       "      <td>argument</td>\n",
       "    </tr>\n",
       "  </tbody>\n",
       "</table>\n",
       "<p>12100 rows × 2 columns</p>\n",
       "</div>"
      ],
      "text/plain": [
       "                                                sentence    annotation\n",
       "0      teachers find difficult make students learn ne...      argument\n",
       "1      present systematic nursing hospitals primary p...  non_argument\n",
       "2           distance fact form data transferred computer  non_argument\n",
       "3      students finished high schools confused subjec...      argument\n",
       "4      strategic bombing sailors sometimes also symbo...  non_argument\n",
       "...                                                  ...           ...\n",
       "12095                        ask permission time allowed      argument\n",
       "12096              children learn manage money young age      argument\n",
       "12097  lowlevel employee desire enhance position fair...      argument\n",
       "12098  among famous works protocubist les demoiselles...  non_argument\n",
       "12099                              friends relationships      argument\n",
       "\n",
       "[12100 rows x 2 columns]"
      ]
     },
     "execution_count": 27,
     "metadata": {},
     "output_type": "execute_result"
    }
   ],
   "source": [
    "df_domain_2"
   ]
  },
  {
   "cell_type": "code",
   "execution_count": 28,
   "id": "f74ab25b",
   "metadata": {
    "scrolled": true
   },
   "outputs": [
    {
     "data": {
      "text/plain": [
       "argument        6050\n",
       "non_argument    6050\n",
       "Name: annotation, dtype: int64"
      ]
     },
     "execution_count": 28,
     "metadata": {},
     "output_type": "execute_result"
    }
   ],
   "source": [
    "df_domain_2['annotation'].value_counts()"
   ]
  },
  {
   "cell_type": "code",
   "execution_count": 29,
   "id": "13e8b196",
   "metadata": {},
   "outputs": [],
   "source": [
    "df_domain_2.to_csv(\"domain_2_set_clean.csv\", sep='\\t', encoding='utf-8')"
   ]
  },
  {
   "cell_type": "code",
   "execution_count": 30,
   "id": "fdd02da9",
   "metadata": {},
   "outputs": [
    {
     "data": {
      "text/plain": [
       "12100"
      ]
     },
     "execution_count": 30,
     "metadata": {},
     "output_type": "execute_result"
    }
   ],
   "source": [
    "len(df_domain_2)"
   ]
  },
  {
   "cell_type": "code",
   "execution_count": 31,
   "id": "0d316072",
   "metadata": {},
   "outputs": [],
   "source": [
    "df_domain_2 = df_domain_2[df_domain_2['sentence'].notna()]"
   ]
  },
  {
   "cell_type": "code",
   "execution_count": 32,
   "id": "8b24c0ea",
   "metadata": {},
   "outputs": [
    {
     "data": {
      "text/plain": [
       "12100"
      ]
     },
     "execution_count": 32,
     "metadata": {},
     "output_type": "execute_result"
    }
   ],
   "source": [
    "len(df_domain_2)"
   ]
  },
  {
   "cell_type": "code",
   "execution_count": null,
   "id": "6b1ffa93",
   "metadata": {},
   "outputs": [],
   "source": []
  }
 ],
 "metadata": {
  "kernelspec": {
   "display_name": "Python3.10.2 (venv)",
   "language": "python",
   "name": "venv"
  },
  "language_info": {
   "codemirror_mode": {
    "name": "ipython",
    "version": 3
   },
   "file_extension": ".py",
   "mimetype": "text/x-python",
   "name": "python",
   "nbconvert_exporter": "python",
   "pygments_lexer": "ipython3",
   "version": "3.10.2"
  }
 },
 "nbformat": 4,
 "nbformat_minor": 5
}
