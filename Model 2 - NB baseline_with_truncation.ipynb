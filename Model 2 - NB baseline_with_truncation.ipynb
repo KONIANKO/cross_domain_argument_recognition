{
 "cells": [
  {
   "cell_type": "code",
   "execution_count": 1,
   "id": "0233b9c8",
   "metadata": {},
   "outputs": [],
   "source": [
    "import pandas as pd\n",
    "import numpy as np\n",
    "from sklearn import metrics\n",
    "# from sklearn.naive_bayes import GaussianNB\n",
    "# from sklearn.naive_bayes import CategoricalNB\n",
    "from sklearn.naive_bayes import MultinomialNB\n",
    "from sklearn.feature_extraction.text import CountVectorizer\n",
    "from sklearn.metrics import classification_report\n",
    "from sklearn.metrics import confusion_matrix"
   ]
  },
  {
   "cell_type": "markdown",
   "id": "6764799e",
   "metadata": {},
   "source": [
    "### Handle nan sentences"
   ]
  },
  {
   "cell_type": "code",
   "execution_count": 2,
   "id": "31df2c9d",
   "metadata": {},
   "outputs": [],
   "source": [
    "domain_1 = pd.read_csv('domain_1_set_clean.csv', sep='\\t', encoding='utf-8', usecols=['sentence', 'annotation'])\n",
    "domain_2 = pd.read_csv('domain_2_set_clean.csv', sep='\\t', encoding='utf-8', usecols=['sentence', 'annotation'])"
   ]
  },
  {
   "cell_type": "code",
   "execution_count": 3,
   "id": "4a366913",
   "metadata": {},
   "outputs": [
    {
     "data": {
      "text/html": [
       "<div>\n",
       "<style scoped>\n",
       "    .dataframe tbody tr th:only-of-type {\n",
       "        vertical-align: middle;\n",
       "    }\n",
       "\n",
       "    .dataframe tbody tr th {\n",
       "        vertical-align: top;\n",
       "    }\n",
       "\n",
       "    .dataframe thead th {\n",
       "        text-align: right;\n",
       "    }\n",
       "</style>\n",
       "<table border=\"1\" class=\"dataframe\">\n",
       "  <thead>\n",
       "    <tr style=\"text-align: right;\">\n",
       "      <th></th>\n",
       "      <th>sentence</th>\n",
       "      <th>annotation</th>\n",
       "    </tr>\n",
       "  </thead>\n",
       "  <tbody>\n",
       "    <tr>\n",
       "      <th>0</th>\n",
       "      <td>model monthly notizie scritte cost around bill...</td>\n",
       "      <td>non_argument</td>\n",
       "    </tr>\n",
       "    <tr>\n",
       "      <th>1</th>\n",
       "      <td>trumpets constructed brass</td>\n",
       "      <td>non_argument</td>\n",
       "    </tr>\n",
       "    <tr>\n",
       "      <th>2</th>\n",
       "      <td>according proponents policies uniforms improve...</td>\n",
       "      <td>argument</td>\n",
       "    </tr>\n",
       "    <tr>\n",
       "      <th>3</th>\n",
       "      <td>cantons abrahamic religions judaism christiani...</td>\n",
       "      <td>non_argument</td>\n",
       "    </tr>\n",
       "    <tr>\n",
       "      <th>4</th>\n",
       "      <td>historians sympathized millau viaduct worlds p...</td>\n",
       "      <td>non_argument</td>\n",
       "    </tr>\n",
       "    <tr>\n",
       "      <th>...</th>\n",
       "      <td>...</td>\n",
       "      <td>...</td>\n",
       "    </tr>\n",
       "    <tr>\n",
       "      <th>12095</th>\n",
       "      <td>cooling operations often requires whole lot wa...</td>\n",
       "      <td>argument</td>\n",
       "    </tr>\n",
       "    <tr>\n",
       "      <th>12096</th>\n",
       "      <td>connect cheap offwhite paper known rhône valle...</td>\n",
       "      <td>non_argument</td>\n",
       "    </tr>\n",
       "    <tr>\n",
       "      <th>12097</th>\n",
       "      <td>continent equal zero chemical formula often</td>\n",
       "      <td>non_argument</td>\n",
       "    </tr>\n",
       "    <tr>\n",
       "      <th>12098</th>\n",
       "      <td>meant view penrose discusses long career also ...</td>\n",
       "      <td>non_argument</td>\n",
       "    </tr>\n",
       "    <tr>\n",
       "      <th>12099</th>\n",
       "      <td>human beings simply genes molecules</td>\n",
       "      <td>argument</td>\n",
       "    </tr>\n",
       "  </tbody>\n",
       "</table>\n",
       "<p>12100 rows × 2 columns</p>\n",
       "</div>"
      ],
      "text/plain": [
       "                                                sentence    annotation\n",
       "0      model monthly notizie scritte cost around bill...  non_argument\n",
       "1                             trumpets constructed brass  non_argument\n",
       "2      according proponents policies uniforms improve...      argument\n",
       "3      cantons abrahamic religions judaism christiani...  non_argument\n",
       "4      historians sympathized millau viaduct worlds p...  non_argument\n",
       "...                                                  ...           ...\n",
       "12095  cooling operations often requires whole lot wa...      argument\n",
       "12096  connect cheap offwhite paper known rhône valle...  non_argument\n",
       "12097        continent equal zero chemical formula often  non_argument\n",
       "12098  meant view penrose discusses long career also ...  non_argument\n",
       "12099                human beings simply genes molecules      argument\n",
       "\n",
       "[12100 rows x 2 columns]"
      ]
     },
     "execution_count": 3,
     "metadata": {},
     "output_type": "execute_result"
    }
   ],
   "source": [
    "domain_1"
   ]
  },
  {
   "cell_type": "code",
   "execution_count": 4,
   "id": "5a352222",
   "metadata": {},
   "outputs": [],
   "source": [
    "# drop nan sentences\n",
    "domain_1 = domain_1[domain_1['sentence'].notna()]"
   ]
  },
  {
   "cell_type": "code",
   "execution_count": 5,
   "id": "11a11991",
   "metadata": {},
   "outputs": [],
   "source": [
    "# drop two arguments and two non-arguments\n",
    "domain_1 = domain_1.drop(domain_1.index[[0,1,2,12095]])"
   ]
  },
  {
   "cell_type": "code",
   "execution_count": 6,
   "id": "a9518f69",
   "metadata": {},
   "outputs": [
    {
     "data": {
      "text/plain": [
       "non_argument    6048\n",
       "argument        6048\n",
       "Name: annotation, dtype: int64"
      ]
     },
     "execution_count": 6,
     "metadata": {},
     "output_type": "execute_result"
    }
   ],
   "source": [
    "domain_1[\"annotation\"].value_counts()"
   ]
  },
  {
   "cell_type": "code",
   "execution_count": 7,
   "id": "947c6746",
   "metadata": {},
   "outputs": [
    {
     "data": {
      "text/plain": [
       "12096"
      ]
     },
     "execution_count": 7,
     "metadata": {},
     "output_type": "execute_result"
    }
   ],
   "source": [
    "len(domain_1)"
   ]
  },
  {
   "cell_type": "code",
   "execution_count": null,
   "id": "ac570253",
   "metadata": {},
   "outputs": [],
   "source": []
  },
  {
   "cell_type": "code",
   "execution_count": 8,
   "id": "dd378eda",
   "metadata": {},
   "outputs": [],
   "source": [
    "# drop nan sentences\n",
    "domain_2 = domain_2[domain_2['sentence'].notna()]"
   ]
  },
  {
   "cell_type": "code",
   "execution_count": 9,
   "id": "392c8e5e",
   "metadata": {},
   "outputs": [],
   "source": [
    "# drop two arguments\n",
    "domain_2 = domain_2.drop(domain_2.index[[0,3]])"
   ]
  },
  {
   "cell_type": "code",
   "execution_count": 10,
   "id": "64aa91c0",
   "metadata": {},
   "outputs": [
    {
     "data": {
      "text/plain": [
       "non_argument    6048\n",
       "argument        6048\n",
       "Name: annotation, dtype: int64"
      ]
     },
     "execution_count": 10,
     "metadata": {},
     "output_type": "execute_result"
    }
   ],
   "source": [
    "domain_2[\"annotation\"].value_counts()"
   ]
  },
  {
   "cell_type": "code",
   "execution_count": 11,
   "id": "b9391fa0",
   "metadata": {},
   "outputs": [
    {
     "data": {
      "text/plain": [
       "12096"
      ]
     },
     "execution_count": 11,
     "metadata": {},
     "output_type": "execute_result"
    }
   ],
   "source": [
    "len(domain_2)"
   ]
  },
  {
   "cell_type": "markdown",
   "id": "7a730da9",
   "metadata": {},
   "source": [
    "### Baseline"
   ]
  },
  {
   "cell_type": "code",
   "execution_count": 12,
   "id": "b59f7d3b",
   "metadata": {},
   "outputs": [],
   "source": [
    "X_1 = domain_1['sentence']\n",
    "y_1 = domain_1['annotation']\n",
    "\n",
    "X_2 = domain_2['sentence']\n",
    "y_2 = domain_2['annotation']"
   ]
  },
  {
   "cell_type": "code",
   "execution_count": 13,
   "id": "cf12ae07",
   "metadata": {},
   "outputs": [],
   "source": [
    "# Vectorize text reviews to numbers\n",
    "vec = CountVectorizer(stop_words='english')\n",
    "X_1 = vec.fit_transform(X_1).toarray()\n",
    "X_2 = vec.fit_transform(X_2).toarray()"
   ]
  },
  {
   "cell_type": "code",
   "execution_count": 14,
   "id": "e738f6aa",
   "metadata": {},
   "outputs": [
    {
     "name": "stdout",
     "output_type": "stream",
     "text": [
      "(12096, 18638)\n",
      "(12096, 15663)\n",
      "(12096,)\n",
      "(12096,)\n"
     ]
    }
   ],
   "source": [
    "print(X_1.shape)\n",
    "print(X_2.shape)\n",
    "\n",
    "print(y_1.shape)\n",
    "print(y_2.shape)"
   ]
  },
  {
   "cell_type": "code",
   "execution_count": 15,
   "id": "86f37506",
   "metadata": {
    "scrolled": true
   },
   "outputs": [],
   "source": [
    "new = [[0]]*len(X_1)\n",
    "\n",
    "for i in range(len(X_1)):\n",
    "    #new.append(X_1[i][:len(X_1[0])])\n",
    "    new[i] = X_1[i][:15663]"
   ]
  },
  {
   "cell_type": "code",
   "execution_count": 16,
   "id": "ffaf771c",
   "metadata": {},
   "outputs": [],
   "source": [
    "X_1 = np.array(new)"
   ]
  },
  {
   "cell_type": "code",
   "execution_count": 17,
   "id": "54337c3f",
   "metadata": {},
   "outputs": [
    {
     "name": "stdout",
     "output_type": "stream",
     "text": [
      "(12096, 15663)\n",
      "(12096, 15663)\n",
      "(12096,)\n",
      "(12096,)\n"
     ]
    }
   ],
   "source": [
    "print(X_1.shape)\n",
    "print(X_2.shape)\n",
    "\n",
    "print(y_1.shape)\n",
    "print(y_2.shape)"
   ]
  },
  {
   "cell_type": "markdown",
   "id": "6c7308ed",
   "metadata": {},
   "source": [
    "### Train on Domain 1 and test on Domain 2"
   ]
  },
  {
   "cell_type": "code",
   "execution_count": 18,
   "id": "b83eaced",
   "metadata": {},
   "outputs": [
    {
     "data": {
      "text/plain": [
       "MultinomialNB()"
      ]
     },
     "execution_count": 18,
     "metadata": {},
     "output_type": "execute_result"
    }
   ],
   "source": [
    "# training the model on training set from domain 1\n",
    "model = MultinomialNB()\n",
    "model.fit(X_1, y_1)"
   ]
  },
  {
   "cell_type": "code",
   "execution_count": 19,
   "id": "0147307c",
   "metadata": {},
   "outputs": [],
   "source": [
    "# making predictions on the testing set from domain 2\n",
    "y_pred = model.predict(X_2)"
   ]
  },
  {
   "cell_type": "code",
   "execution_count": 20,
   "id": "cb92e1f7",
   "metadata": {},
   "outputs": [
    {
     "name": "stdout",
     "output_type": "stream",
     "text": [
      "Naive Bayes model accuracy(in %): 47.25529100529101\n"
     ]
    }
   ],
   "source": [
    "# compare predictions with true labels from domain 2\n",
    "print(\"Naive Bayes model accuracy(in %):\", metrics.accuracy_score(y_2, y_pred)*100)"
   ]
  },
  {
   "cell_type": "code",
   "execution_count": 21,
   "id": "9d6f050a",
   "metadata": {},
   "outputs": [
    {
     "name": "stdout",
     "output_type": "stream",
     "text": [
      "[[ 904 5144]\n",
      " [1236 4812]]\n"
     ]
    }
   ],
   "source": [
    "print(confusion_matrix(y_2, y_pred))"
   ]
  },
  {
   "cell_type": "code",
   "execution_count": 22,
   "id": "27e4496a",
   "metadata": {},
   "outputs": [
    {
     "name": "stdout",
     "output_type": "stream",
     "text": [
      "              precision    recall  f1-score   support\n",
      "\n",
      "    argument       0.42      0.15      0.22      6048\n",
      "non_argument       0.48      0.80      0.60      6048\n",
      "\n",
      "    accuracy                           0.47     12096\n",
      "   macro avg       0.45      0.47      0.41     12096\n",
      "weighted avg       0.45      0.47      0.41     12096\n",
      "\n"
     ]
    }
   ],
   "source": [
    "print(classification_report(y_2, y_pred))"
   ]
  },
  {
   "cell_type": "code",
   "execution_count": 23,
   "id": "f01d8c86",
   "metadata": {
    "scrolled": true
   },
   "outputs": [],
   "source": [
    "true_labels = y_2\n",
    "predictions = y_pred"
   ]
  },
  {
   "cell_type": "code",
   "execution_count": 24,
   "id": "ca7cd2cf",
   "metadata": {},
   "outputs": [],
   "source": [
    "df_result = pd.DataFrame({'annotation': true_labels, 'predicted_labels_model_2_domain_2': predictions})"
   ]
  },
  {
   "cell_type": "code",
   "execution_count": 25,
   "id": "a87d1543",
   "metadata": {},
   "outputs": [],
   "source": [
    "df_result.to_csv(\"M2_domain_2.csv\", sep='\\t', encoding='utf-8')"
   ]
  },
  {
   "cell_type": "code",
   "execution_count": null,
   "id": "4e904e00",
   "metadata": {},
   "outputs": [],
   "source": []
  },
  {
   "cell_type": "markdown",
   "id": "c92f8366",
   "metadata": {},
   "source": [
    "### Train on Domain 2 and test on Domain 1"
   ]
  },
  {
   "cell_type": "code",
   "execution_count": 26,
   "id": "200d96f0",
   "metadata": {},
   "outputs": [
    {
     "data": {
      "text/plain": [
       "MultinomialNB()"
      ]
     },
     "execution_count": 26,
     "metadata": {},
     "output_type": "execute_result"
    }
   ],
   "source": [
    "# training the model on training set from domain 2\n",
    "model = MultinomialNB()\n",
    "model.fit(X_2, y_2)"
   ]
  },
  {
   "cell_type": "code",
   "execution_count": 27,
   "id": "366870c3",
   "metadata": {},
   "outputs": [],
   "source": [
    "# making predictions on the testing set from domain 2\n",
    "y_pred = model.predict(X_1)"
   ]
  },
  {
   "cell_type": "code",
   "execution_count": 28,
   "id": "c2273246",
   "metadata": {},
   "outputs": [
    {
     "name": "stdout",
     "output_type": "stream",
     "text": [
      "Naive Bayes model accuracy(in %): 46.44510582010582\n"
     ]
    }
   ],
   "source": [
    "# compare predictions with true labels from domain 1\n",
    "print(\"Naive Bayes model accuracy(in %):\", metrics.accuracy_score(y_1, y_pred)*100)"
   ]
  },
  {
   "cell_type": "code",
   "execution_count": 29,
   "id": "cee59b0d",
   "metadata": {},
   "outputs": [
    {
     "name": "stdout",
     "output_type": "stream",
     "text": [
      "[[ 791 5257]\n",
      " [1221 4827]]\n"
     ]
    }
   ],
   "source": [
    "print(confusion_matrix(y_1, y_pred))"
   ]
  },
  {
   "cell_type": "code",
   "execution_count": 30,
   "id": "8019f265",
   "metadata": {},
   "outputs": [
    {
     "name": "stdout",
     "output_type": "stream",
     "text": [
      "              precision    recall  f1-score   support\n",
      "\n",
      "    argument       0.39      0.13      0.20      6048\n",
      "non_argument       0.48      0.80      0.60      6048\n",
      "\n",
      "    accuracy                           0.46     12096\n",
      "   macro avg       0.44      0.46      0.40     12096\n",
      "weighted avg       0.44      0.46      0.40     12096\n",
      "\n"
     ]
    }
   ],
   "source": [
    "print(classification_report(y_1, y_pred))"
   ]
  },
  {
   "cell_type": "code",
   "execution_count": 31,
   "id": "71abf561",
   "metadata": {},
   "outputs": [],
   "source": [
    "true_labels = y_1\n",
    "predictions = y_pred"
   ]
  },
  {
   "cell_type": "code",
   "execution_count": 32,
   "id": "cb5d9e70",
   "metadata": {},
   "outputs": [],
   "source": [
    "df_result = pd.DataFrame({'annotation': true_labels, 'predicted_labels_model_2_domain_1': predictions})"
   ]
  },
  {
   "cell_type": "code",
   "execution_count": 33,
   "id": "ebfd1351",
   "metadata": {},
   "outputs": [],
   "source": [
    "df_result.to_csv(\"M2_domain_1.csv\", sep='\\t', encoding='utf-8')"
   ]
  },
  {
   "cell_type": "code",
   "execution_count": null,
   "id": "5a77752b",
   "metadata": {},
   "outputs": [],
   "source": []
  },
  {
   "cell_type": "code",
   "execution_count": 34,
   "id": "6aa46e5a",
   "metadata": {},
   "outputs": [
    {
     "data": {
      "text/html": [
       "<div>\n",
       "<style scoped>\n",
       "    .dataframe tbody tr th:only-of-type {\n",
       "        vertical-align: middle;\n",
       "    }\n",
       "\n",
       "    .dataframe tbody tr th {\n",
       "        vertical-align: top;\n",
       "    }\n",
       "\n",
       "    .dataframe thead th {\n",
       "        text-align: right;\n",
       "    }\n",
       "</style>\n",
       "<table border=\"1\" class=\"dataframe\">\n",
       "  <thead>\n",
       "    <tr style=\"text-align: right;\">\n",
       "      <th></th>\n",
       "      <th>annotation</th>\n",
       "      <th>predicted_labels_model_2_domain_1</th>\n",
       "    </tr>\n",
       "  </thead>\n",
       "  <tbody>\n",
       "    <tr>\n",
       "      <th>3</th>\n",
       "      <td>non_argument</td>\n",
       "      <td>non_argument</td>\n",
       "    </tr>\n",
       "    <tr>\n",
       "      <th>4</th>\n",
       "      <td>non_argument</td>\n",
       "      <td>non_argument</td>\n",
       "    </tr>\n",
       "    <tr>\n",
       "      <th>5</th>\n",
       "      <td>non_argument</td>\n",
       "      <td>non_argument</td>\n",
       "    </tr>\n",
       "  </tbody>\n",
       "</table>\n",
       "</div>"
      ],
      "text/plain": [
       "     annotation predicted_labels_model_2_domain_1\n",
       "3  non_argument                      non_argument\n",
       "4  non_argument                      non_argument\n",
       "5  non_argument                      non_argument"
      ]
     },
     "execution_count": 34,
     "metadata": {},
     "output_type": "execute_result"
    }
   ],
   "source": [
    "df_result.head(3)"
   ]
  },
  {
   "cell_type": "code",
   "execution_count": null,
   "id": "576d57b4",
   "metadata": {},
   "outputs": [],
   "source": []
  }
 ],
 "metadata": {
  "kernelspec": {
   "display_name": "Python3.10.2 (venv)",
   "language": "python",
   "name": "venv"
  },
  "language_info": {
   "codemirror_mode": {
    "name": "ipython",
    "version": 3
   },
   "file_extension": ".py",
   "mimetype": "text/x-python",
   "name": "python",
   "nbconvert_exporter": "python",
   "pygments_lexer": "ipython3",
   "version": "3.10.2"
  }
 },
 "nbformat": 4,
 "nbformat_minor": 5
}
