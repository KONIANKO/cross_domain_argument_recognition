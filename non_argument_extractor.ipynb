{
 "cells": [
  {
   "cell_type": "code",
   "execution_count": 1,
   "id": "1d3a93ee",
   "metadata": {},
   "outputs": [],
   "source": [
    "import pandas as pd\n",
    "import numpy as np\n",
    "import string\n",
    "import csv"
   ]
  },
  {
   "cell_type": "code",
   "execution_count": 2,
   "id": "edf5b398",
   "metadata": {},
   "outputs": [
    {
     "name": "stdout",
     "output_type": "stream",
     "text": [
      "OK\n"
     ]
    }
   ],
   "source": [
    "print(\"OK\")"
   ]
  },
  {
   "cell_type": "code",
   "execution_count": 3,
   "id": "f103bcf2",
   "metadata": {},
   "outputs": [],
   "source": [
    "file_names = ['S08_question_answer_pairs', 'S09_question_answer_pairs', 'S10_question_answer_pairs']\n",
    "fields = ['Question', 'Answer']\n",
    "\n",
    "# initialize df with 1 row, later append all data to this df\n",
    "df = pd.read_csv(\".\\\\Datasets\\\\Question_Answering\\\\S08_question_answer_pairs.txt\", sep='\\t', usecols=fields, quoting=csv.QUOTE_NONE, encoding='latin-1').head(1)"
   ]
  },
  {
   "cell_type": "code",
   "execution_count": 4,
   "id": "17bc0ba9",
   "metadata": {},
   "outputs": [
    {
     "data": {
      "text/html": [
       "<div>\n",
       "<style scoped>\n",
       "    .dataframe tbody tr th:only-of-type {\n",
       "        vertical-align: middle;\n",
       "    }\n",
       "\n",
       "    .dataframe tbody tr th {\n",
       "        vertical-align: top;\n",
       "    }\n",
       "\n",
       "    .dataframe thead th {\n",
       "        text-align: right;\n",
       "    }\n",
       "</style>\n",
       "<table border=\"1\" class=\"dataframe\">\n",
       "  <thead>\n",
       "    <tr style=\"text-align: right;\">\n",
       "      <th></th>\n",
       "      <th>Question</th>\n",
       "      <th>Answer</th>\n",
       "    </tr>\n",
       "  </thead>\n",
       "  <tbody>\n",
       "    <tr>\n",
       "      <th>0</th>\n",
       "      <td>Was Abraham Lincoln the sixteenth President of...</td>\n",
       "      <td>yes</td>\n",
       "    </tr>\n",
       "  </tbody>\n",
       "</table>\n",
       "</div>"
      ],
      "text/plain": [
       "                                            Question Answer\n",
       "0  Was Abraham Lincoln the sixteenth President of...    yes"
      ]
     },
     "execution_count": 4,
     "metadata": {},
     "output_type": "execute_result"
    }
   ],
   "source": [
    "df"
   ]
  },
  {
   "cell_type": "code",
   "execution_count": 5,
   "id": "07542bb5",
   "metadata": {
    "scrolled": true
   },
   "outputs": [],
   "source": [
    "for file in file_names:\n",
    "    curr_df = pd.read_csv(\".\\\\Datasets\\\\Question_Answering\\\\\" + file + \".txt\", sep='\\t', usecols=fields, quoting=csv.QUOTE_NONE, encoding='latin-1')\n",
    "    df = pd.concat([df, curr_df], ignore_index=True)\n",
    "\n",
    "# drop first dummy row from initialization\n",
    "df = df.iloc[1:]"
   ]
  },
  {
   "cell_type": "code",
   "execution_count": 6,
   "id": "9a4fc89a",
   "metadata": {},
   "outputs": [],
   "source": [
    "df.rename(columns={'Question': 'sentence', 'Answer': 'answer'}, inplace=True)\n",
    "# drop duplicate sentences\n",
    "df = df.drop_duplicates(subset=['sentence'])\n",
    "df = df.reset_index(drop=True)\n",
    "df['annotation'] = 'non_argument'\n",
    "df = df[['sentence', 'annotation']]\n",
    "df = df[df['sentence'].notna()]"
   ]
  },
  {
   "cell_type": "code",
   "execution_count": 7,
   "id": "43fdbac0",
   "metadata": {},
   "outputs": [],
   "source": [
    "# sentences = df['sentence']\n",
    "# clean_sentences = []\n",
    "# #map punctuation to space\n",
    "# translator = str.maketrans(string.punctuation, ' '*len(string.punctuation))\n",
    "\n",
    "# for sentence in sentences:\n",
    "#     # replace punctuation marks with space\n",
    "#     sentence = sentence.translate(translator)\n",
    "#     # replace multiple spaces by 1 space\n",
    "#     sentence = ' '.join(sentence.split())\n",
    "#     clean_sentences.append(sentence)"
   ]
  },
  {
   "cell_type": "code",
   "execution_count": 8,
   "id": "e6c78ca8",
   "metadata": {},
   "outputs": [],
   "source": [
    "# df['sentence'] = clean_sentences"
   ]
  },
  {
   "cell_type": "code",
   "execution_count": 9,
   "id": "c5aa045b",
   "metadata": {
    "scrolled": true
   },
   "outputs": [
    {
     "data": {
      "text/html": [
       "<div>\n",
       "<style scoped>\n",
       "    .dataframe tbody tr th:only-of-type {\n",
       "        vertical-align: middle;\n",
       "    }\n",
       "\n",
       "    .dataframe tbody tr th {\n",
       "        vertical-align: top;\n",
       "    }\n",
       "\n",
       "    .dataframe thead th {\n",
       "        text-align: right;\n",
       "    }\n",
       "</style>\n",
       "<table border=\"1\" class=\"dataframe\">\n",
       "  <thead>\n",
       "    <tr style=\"text-align: right;\">\n",
       "      <th></th>\n",
       "      <th>sentence</th>\n",
       "      <th>annotation</th>\n",
       "    </tr>\n",
       "  </thead>\n",
       "  <tbody>\n",
       "    <tr>\n",
       "      <th>0</th>\n",
       "      <td>Was Abraham Lincoln the sixteenth President of...</td>\n",
       "      <td>non_argument</td>\n",
       "    </tr>\n",
       "    <tr>\n",
       "      <th>1</th>\n",
       "      <td>Did Lincoln sign the National Banking Act of 1...</td>\n",
       "      <td>non_argument</td>\n",
       "    </tr>\n",
       "    <tr>\n",
       "      <th>2</th>\n",
       "      <td>Did his mother die of pneumonia?</td>\n",
       "      <td>non_argument</td>\n",
       "    </tr>\n",
       "    <tr>\n",
       "      <th>3</th>\n",
       "      <td>How many long was Lincoln's formal education?</td>\n",
       "      <td>non_argument</td>\n",
       "    </tr>\n",
       "    <tr>\n",
       "      <th>4</th>\n",
       "      <td>When did Lincoln begin his political career?</td>\n",
       "      <td>non_argument</td>\n",
       "    </tr>\n",
       "    <tr>\n",
       "      <th>...</th>\n",
       "      <td>...</td>\n",
       "      <td>...</td>\n",
       "    </tr>\n",
       "    <tr>\n",
       "      <th>2452</th>\n",
       "      <td>What do zebras eat?</td>\n",
       "      <td>non_argument</td>\n",
       "    </tr>\n",
       "    <tr>\n",
       "      <th>2453</th>\n",
       "      <td>What are zebras hunted for?</td>\n",
       "      <td>non_argument</td>\n",
       "    </tr>\n",
       "    <tr>\n",
       "      <th>2454</th>\n",
       "      <td>What areas do the Grevy's Zebras inhabit?</td>\n",
       "      <td>non_argument</td>\n",
       "    </tr>\n",
       "    <tr>\n",
       "      <th>2455</th>\n",
       "      <td>Which species of zebra is known as the common ...</td>\n",
       "      <td>non_argument</td>\n",
       "    </tr>\n",
       "    <tr>\n",
       "      <th>2456</th>\n",
       "      <td>At what age can a zebra breed?</td>\n",
       "      <td>non_argument</td>\n",
       "    </tr>\n",
       "  </tbody>\n",
       "</table>\n",
       "<p>2456 rows × 2 columns</p>\n",
       "</div>"
      ],
      "text/plain": [
       "                                               sentence    annotation\n",
       "0     Was Abraham Lincoln the sixteenth President of...  non_argument\n",
       "1     Did Lincoln sign the National Banking Act of 1...  non_argument\n",
       "2                      Did his mother die of pneumonia?  non_argument\n",
       "3         How many long was Lincoln's formal education?  non_argument\n",
       "4          When did Lincoln begin his political career?  non_argument\n",
       "...                                                 ...           ...\n",
       "2452                                What do zebras eat?  non_argument\n",
       "2453                        What are zebras hunted for?  non_argument\n",
       "2454          What areas do the Grevy's Zebras inhabit?  non_argument\n",
       "2455  Which species of zebra is known as the common ...  non_argument\n",
       "2456                     At what age can a zebra breed?  non_argument\n",
       "\n",
       "[2456 rows x 2 columns]"
      ]
     },
     "execution_count": 9,
     "metadata": {},
     "output_type": "execute_result"
    }
   ],
   "source": [
    "df"
   ]
  },
  {
   "cell_type": "code",
   "execution_count": 10,
   "id": "fc8acd8a",
   "metadata": {},
   "outputs": [],
   "source": [
    "df.to_csv(\"non_arguments_questions_raw.csv\", sep='\\t', encoding='utf-8')"
   ]
  },
  {
   "cell_type": "code",
   "execution_count": null,
   "id": "1427b585",
   "metadata": {},
   "outputs": [],
   "source": []
  },
  {
   "cell_type": "code",
   "execution_count": null,
   "id": "de250d12",
   "metadata": {},
   "outputs": [],
   "source": []
  },
  {
   "cell_type": "code",
   "execution_count": 11,
   "id": "6ad94147",
   "metadata": {},
   "outputs": [],
   "source": [
    "sents = df['sentence']"
   ]
  },
  {
   "cell_type": "code",
   "execution_count": 12,
   "id": "1311dc20",
   "metadata": {},
   "outputs": [],
   "source": [
    "longest = 0\n",
    "shortest = 10000\n",
    "average = 0\n",
    "lengths = []\n",
    "for sentence in sents:\n",
    "    length = len(sentence.split())\n",
    "    lengths.append(length)\n",
    "    if length > longest:\n",
    "        longest = length\n",
    "    if length < shortest:\n",
    "        shortest = length"
   ]
  },
  {
   "cell_type": "code",
   "execution_count": 13,
   "id": "cbd76c2f",
   "metadata": {},
   "outputs": [
    {
     "name": "stdout",
     "output_type": "stream",
     "text": [
      "106\n",
      "1\n",
      "9\n"
     ]
    }
   ],
   "source": [
    "print(longest)\n",
    "print(shortest)\n",
    "print(int(np.average(lengths)))"
   ]
  }
 ],
 "metadata": {
  "kernelspec": {
   "display_name": "Python3.10.2 (venv)",
   "language": "python",
   "name": "venv"
  },
  "language_info": {
   "codemirror_mode": {
    "name": "ipython",
    "version": 3
   },
   "file_extension": ".py",
   "mimetype": "text/x-python",
   "name": "python",
   "nbconvert_exporter": "python",
   "pygments_lexer": "ipython3",
   "version": "3.10.2"
  }
 },
 "nbformat": 4,
 "nbformat_minor": 5
}
