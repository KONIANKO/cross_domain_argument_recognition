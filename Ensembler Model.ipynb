{
 "cells": [
  {
   "cell_type": "markdown",
   "id": "e5ed9c36",
   "metadata": {},
   "source": [
    "### Ensemble Model"
   ]
  },
  {
   "cell_type": "code",
   "execution_count": 1,
   "id": "f304cd26",
   "metadata": {},
   "outputs": [],
   "source": [
    "import pandas as pd\n",
    "from sklearn.metrics import classification_report\n",
    "from sklearn.metrics import confusion_matrix"
   ]
  },
  {
   "cell_type": "code",
   "execution_count": 2,
   "id": "66223d4c",
   "metadata": {},
   "outputs": [],
   "source": [
    "M2_domain_1 = pd.read_csv('M2_domain_1.csv', sep='\\t', encoding='utf-8', usecols=['annotation', 'predicted_labels_model_2_domain_1'])\n",
    "M2_domain_2 = pd.read_csv('M2_domain_2.csv', sep='\\t', encoding='utf-8', usecols=['annotation', 'predicted_labels_model_2_domain_2'])"
   ]
  },
  {
   "cell_type": "code",
   "execution_count": 3,
   "id": "a0eeb8c2",
   "metadata": {},
   "outputs": [],
   "source": [
    "M3_domain_1 = pd.read_csv('M3_domain_1.csv', sep='\\t', encoding='utf-8', usecols=['annotation', 'predicted_labels_model_3_domain_1'])\n",
    "M3_domain_2 = pd.read_csv('M3_domain_2.csv', sep='\\t', encoding='utf-8', usecols=['annotation', 'predicted_labels_model_3_domain_2'])"
   ]
  },
  {
   "cell_type": "code",
   "execution_count": 4,
   "id": "a0032fdf",
   "metadata": {},
   "outputs": [],
   "source": [
    "M4_domain_1 = pd.read_csv('M4_domain_1.csv', sep='\\t', encoding='utf-8', usecols=['annotation', 'predicted_labels_model_4_domain_1'])\n",
    "M4_domain_2 = pd.read_csv('M4_domain_2.csv', sep='\\t', encoding='utf-8', usecols=['annotation', 'predicted_labels_model_4_domain_2'])"
   ]
  },
  {
   "cell_type": "code",
   "execution_count": 5,
   "id": "e63686fd",
   "metadata": {},
   "outputs": [],
   "source": [
    "annotation_1 = list(M2_domain_1['annotation'])\n",
    "annotation_2 = list(M2_domain_2['annotation'])\n",
    "\n",
    "M2_1 = list(M2_domain_1['predicted_labels_model_2_domain_1'])\n",
    "M2_2 = list(M2_domain_2['predicted_labels_model_2_domain_2'])\n",
    "\n",
    "M3_1 = list(M3_domain_1['predicted_labels_model_3_domain_1'])\n",
    "M3_2 = list(M3_domain_2['predicted_labels_model_3_domain_2'])\n",
    "\n",
    "M4_1 = list(M4_domain_1['predicted_labels_model_4_domain_1'])\n",
    "M4_2 = list(M4_domain_2['predicted_labels_model_4_domain_2'])"
   ]
  },
  {
   "cell_type": "code",
   "execution_count": 6,
   "id": "17456f99",
   "metadata": {},
   "outputs": [],
   "source": [
    "df_result = pd.DataFrame({'annotation_d1': annotation_1,\n",
    "                          'annotation_d2': annotation_2, \n",
    "                          'pred_m2_d1': M2_1,\n",
    "                          'pred_m2_d2': M2_2,\n",
    "                          'pred_m3_d1': M3_1,\n",
    "                          'pred_m3_d2': M3_2,\n",
    "                          'pred_m4_d1': M4_1,\n",
    "                          'pred_m4_d2': M4_2\n",
    "                         })"
   ]
  },
  {
   "cell_type": "code",
   "execution_count": 7,
   "id": "c247afa0",
   "metadata": {},
   "outputs": [
    {
     "data": {
      "text/html": [
       "<div>\n",
       "<style scoped>\n",
       "    .dataframe tbody tr th:only-of-type {\n",
       "        vertical-align: middle;\n",
       "    }\n",
       "\n",
       "    .dataframe tbody tr th {\n",
       "        vertical-align: top;\n",
       "    }\n",
       "\n",
       "    .dataframe thead th {\n",
       "        text-align: right;\n",
       "    }\n",
       "</style>\n",
       "<table border=\"1\" class=\"dataframe\">\n",
       "  <thead>\n",
       "    <tr style=\"text-align: right;\">\n",
       "      <th></th>\n",
       "      <th>annotation_d1</th>\n",
       "      <th>annotation_d2</th>\n",
       "      <th>pred_m2_d1</th>\n",
       "      <th>pred_m2_d2</th>\n",
       "      <th>pred_m3_d1</th>\n",
       "      <th>pred_m3_d2</th>\n",
       "      <th>pred_m4_d1</th>\n",
       "      <th>pred_m4_d2</th>\n",
       "    </tr>\n",
       "  </thead>\n",
       "  <tbody>\n",
       "    <tr>\n",
       "      <th>0</th>\n",
       "      <td>non_argument</td>\n",
       "      <td>non_argument</td>\n",
       "      <td>non_argument</td>\n",
       "      <td>non_argument</td>\n",
       "      <td>non_argument</td>\n",
       "      <td>non_argument</td>\n",
       "      <td>non_argument</td>\n",
       "      <td>non_argument</td>\n",
       "    </tr>\n",
       "    <tr>\n",
       "      <th>1</th>\n",
       "      <td>non_argument</td>\n",
       "      <td>non_argument</td>\n",
       "      <td>non_argument</td>\n",
       "      <td>non_argument</td>\n",
       "      <td>non_argument</td>\n",
       "      <td>non_argument</td>\n",
       "      <td>non_argument</td>\n",
       "      <td>non_argument</td>\n",
       "    </tr>\n",
       "    <tr>\n",
       "      <th>2</th>\n",
       "      <td>non_argument</td>\n",
       "      <td>non_argument</td>\n",
       "      <td>non_argument</td>\n",
       "      <td>non_argument</td>\n",
       "      <td>argument</td>\n",
       "      <td>non_argument</td>\n",
       "      <td>argument</td>\n",
       "      <td>non_argument</td>\n",
       "    </tr>\n",
       "  </tbody>\n",
       "</table>\n",
       "</div>"
      ],
      "text/plain": [
       "  annotation_d1 annotation_d2    pred_m2_d1    pred_m2_d2    pred_m3_d1  \\\n",
       "0  non_argument  non_argument  non_argument  non_argument  non_argument   \n",
       "1  non_argument  non_argument  non_argument  non_argument  non_argument   \n",
       "2  non_argument  non_argument  non_argument  non_argument      argument   \n",
       "\n",
       "     pred_m3_d2    pred_m4_d1    pred_m4_d2  \n",
       "0  non_argument  non_argument  non_argument  \n",
       "1  non_argument  non_argument  non_argument  \n",
       "2  non_argument      argument  non_argument  "
      ]
     },
     "execution_count": 7,
     "metadata": {},
     "output_type": "execute_result"
    }
   ],
   "source": [
    "df_result.head(3)"
   ]
  },
  {
   "cell_type": "markdown",
   "id": "49ccd001",
   "metadata": {},
   "source": [
    "### Compute majority vote from all 3 Models"
   ]
  },
  {
   "cell_type": "code",
   "execution_count": 8,
   "id": "7135859a",
   "metadata": {},
   "outputs": [],
   "source": [
    "def most_common(lst):\n",
    "    return max(set(lst), key=lst.count)"
   ]
  },
  {
   "cell_type": "code",
   "execution_count": 9,
   "id": "96cf0d10",
   "metadata": {},
   "outputs": [],
   "source": [
    "majority_vote_label_d1 = []\n",
    "majority_vote_label_d2 = []\n",
    "\n",
    "for i in range(len(df_result)):\n",
    "    tmp_1 = []\n",
    "   \n",
    "    tmp_1.append(df_result._get_value(i, 'pred_m2_d1'))\n",
    "    tmp_1.append(df_result._get_value(i, 'pred_m3_d1'))\n",
    "    tmp_1.append(df_result._get_value(i, 'pred_m4_d1'))\n",
    "    \n",
    "    majority_vote_label_d1.append(most_common(tmp_1))\n",
    "    \n",
    "    tmp_2 = []\n",
    "    tmp_2.append(df_result._get_value(i, 'pred_m2_d2'))\n",
    "    tmp_2.append(df_result._get_value(i, 'pred_m3_d2'))\n",
    "    tmp_2.append(df_result._get_value(i, 'pred_m4_d2'))\n",
    "    \n",
    "    majority_vote_label_d2.append(most_common(tmp_2))"
   ]
  },
  {
   "cell_type": "code",
   "execution_count": 10,
   "id": "1aa1d1ad",
   "metadata": {},
   "outputs": [],
   "source": [
    "y_true_1 = list(df_result['annotation_d1'])\n",
    "y_true_2 = list(df_result['annotation_d2'])\n",
    "\n",
    "y_pred_1 = majority_vote_label_d1\n",
    "y_pred_2 = majority_vote_label_d2"
   ]
  },
  {
   "cell_type": "markdown",
   "id": "8dbad229",
   "metadata": {},
   "source": [
    "### Results Domain 1"
   ]
  },
  {
   "cell_type": "code",
   "execution_count": 11,
   "id": "a548ac4e",
   "metadata": {},
   "outputs": [
    {
     "name": "stdout",
     "output_type": "stream",
     "text": [
      "[[4275 1773]\n",
      " [ 172 5876]]\n"
     ]
    }
   ],
   "source": [
    "print(confusion_matrix(y_true_1, y_pred_1))"
   ]
  },
  {
   "cell_type": "code",
   "execution_count": 12,
   "id": "8d1fbc2e",
   "metadata": {},
   "outputs": [
    {
     "name": "stdout",
     "output_type": "stream",
     "text": [
      "              precision    recall  f1-score   support\n",
      "\n",
      "    argument       0.96      0.71      0.81      6048\n",
      "non_argument       0.77      0.97      0.86      6048\n",
      "\n",
      "    accuracy                           0.84     12096\n",
      "   macro avg       0.86      0.84      0.84     12096\n",
      "weighted avg       0.86      0.84      0.84     12096\n",
      "\n"
     ]
    }
   ],
   "source": [
    "print(classification_report(y_true_1, y_pred_1))"
   ]
  },
  {
   "cell_type": "code",
   "execution_count": null,
   "id": "68057e03",
   "metadata": {},
   "outputs": [],
   "source": []
  },
  {
   "cell_type": "markdown",
   "id": "f0b42b32",
   "metadata": {},
   "source": [
    "### Results Domain 2"
   ]
  },
  {
   "cell_type": "code",
   "execution_count": 13,
   "id": "dfe11f24",
   "metadata": {},
   "outputs": [
    {
     "name": "stdout",
     "output_type": "stream",
     "text": [
      "[[1648 4400]\n",
      " [ 173 5875]]\n"
     ]
    }
   ],
   "source": [
    "print(confusion_matrix(y_true_2, y_pred_2))"
   ]
  },
  {
   "cell_type": "code",
   "execution_count": 14,
   "id": "c5aca462",
   "metadata": {},
   "outputs": [
    {
     "name": "stdout",
     "output_type": "stream",
     "text": [
      "              precision    recall  f1-score   support\n",
      "\n",
      "    argument       0.90      0.27      0.42      6048\n",
      "non_argument       0.57      0.97      0.72      6048\n",
      "\n",
      "    accuracy                           0.62     12096\n",
      "   macro avg       0.74      0.62      0.57     12096\n",
      "weighted avg       0.74      0.62      0.57     12096\n",
      "\n"
     ]
    }
   ],
   "source": [
    "print(classification_report(y_true_2, y_pred_2))"
   ]
  },
  {
   "cell_type": "code",
   "execution_count": null,
   "id": "4f0ba87e",
   "metadata": {},
   "outputs": [],
   "source": []
  }
 ],
 "metadata": {
  "kernelspec": {
   "display_name": "Python3.10.2 (venv)",
   "language": "python",
   "name": "venv"
  },
  "language_info": {
   "codemirror_mode": {
    "name": "ipython",
    "version": 3
   },
   "file_extension": ".py",
   "mimetype": "text/x-python",
   "name": "python",
   "nbconvert_exporter": "python",
   "pygments_lexer": "ipython3",
   "version": "3.10.2"
  }
 },
 "nbformat": 4,
 "nbformat_minor": 5
}
