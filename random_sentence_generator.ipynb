{
 "cells": [
  {
   "cell_type": "code",
   "execution_count": 1,
   "id": "371bc35f",
   "metadata": {},
   "outputs": [],
   "source": [
    "# import documentgenerator\n",
    "import string\n",
    "import pandas as pd\n",
    "import numpy as np\n",
    "from essential_generators import DocumentGenerator"
   ]
  },
  {
   "cell_type": "code",
   "execution_count": 2,
   "id": "8d562c2d",
   "metadata": {},
   "outputs": [],
   "source": [
    "main = DocumentGenerator()\n",
    "\n",
    "#map punctuation to space\n",
    "translator = str.maketrans(string.punctuation, ' '*len(string.punctuation))"
   ]
  },
  {
   "cell_type": "code",
   "execution_count": 3,
   "id": "ec254ef5",
   "metadata": {},
   "outputs": [],
   "source": [
    "sents = []\n",
    "\n",
    "for i in range(26000):\n",
    "    sentence = main.sentence()\n",
    "    # replace punctuation marks with space\n",
    "    # sentence = sentence.translate(translator)\n",
    "    # replace multiple spaces by 1 space\n",
    "    if len(sentence.split()) >= 10: \n",
    "        #sentence = ' '.join(sentence.split())\n",
    "        sents.append(sentence)\n",
    "    else:\n",
    "        continue"
   ]
  },
  {
   "cell_type": "code",
   "execution_count": 4,
   "id": "cc6546f5",
   "metadata": {},
   "outputs": [],
   "source": [
    "labels = ['non_argument'] * len(sents)"
   ]
  },
  {
   "cell_type": "code",
   "execution_count": 5,
   "id": "ff0d5534",
   "metadata": {},
   "outputs": [],
   "source": [
    "df = pd.DataFrame({'sentence': sents, 'annotation': labels})"
   ]
  },
  {
   "cell_type": "code",
   "execution_count": 6,
   "id": "19fc7c5a",
   "metadata": {
    "scrolled": true
   },
   "outputs": [
    {
     "data": {
      "text/html": [
       "<div>\n",
       "<style scoped>\n",
       "    .dataframe tbody tr th:only-of-type {\n",
       "        vertical-align: middle;\n",
       "    }\n",
       "\n",
       "    .dataframe tbody tr th {\n",
       "        vertical-align: top;\n",
       "    }\n",
       "\n",
       "    .dataframe thead th {\n",
       "        text-align: right;\n",
       "    }\n",
       "</style>\n",
       "<table border=\"1\" class=\"dataframe\">\n",
       "  <thead>\n",
       "    <tr style=\"text-align: right;\">\n",
       "      <th></th>\n",
       "      <th>sentence</th>\n",
       "      <th>annotation</th>\n",
       "    </tr>\n",
       "  </thead>\n",
       "  <tbody>\n",
       "    <tr>\n",
       "      <th>0</th>\n",
       "      <td>Zero. A time, this will deepen the river for p...</td>\n",
       "      <td>non_argument</td>\n",
       "    </tr>\n",
       "    <tr>\n",
       "      <th>1</th>\n",
       "      <td>Under these including lurs and the southern po...</td>\n",
       "      <td>non_argument</td>\n",
       "    </tr>\n",
       "    <tr>\n",
       "      <th>2</th>\n",
       "      <td>Stay as German Democratic Republic. In 1990, t...</td>\n",
       "      <td>non_argument</td>\n",
       "    </tr>\n",
       "    <tr>\n",
       "      <th>3</th>\n",
       "      <td>Major men's seventh-most visited city destinat...</td>\n",
       "      <td>non_argument</td>\n",
       "    </tr>\n",
       "    <tr>\n",
       "      <th>4</th>\n",
       "      <td>PhilPapers Normative The aim of restoring degr...</td>\n",
       "      <td>non_argument</td>\n",
       "    </tr>\n",
       "    <tr>\n",
       "      <th>...</th>\n",
       "      <td>...</td>\n",
       "      <td>...</td>\n",
       "    </tr>\n",
       "    <tr>\n",
       "      <th>11592</th>\n",
       "      <td>Still require in Uganda was expelled by the lo...</td>\n",
       "      <td>non_argument</td>\n",
       "    </tr>\n",
       "    <tr>\n",
       "      <th>11593</th>\n",
       "      <td>Which views St. Paul and Elder state that comp...</td>\n",
       "      <td>non_argument</td>\n",
       "    </tr>\n",
       "    <tr>\n",
       "      <th>11594</th>\n",
       "      <td>Currently plays agreement, on 1 January 2007 p...</td>\n",
       "      <td>non_argument</td>\n",
       "    </tr>\n",
       "    <tr>\n",
       "      <th>11595</th>\n",
       "      <td>Heavy intensity. belong in an AND gate and sim...</td>\n",
       "      <td>non_argument</td>\n",
       "    </tr>\n",
       "    <tr>\n",
       "      <th>11596</th>\n",
       "      <td>About 29% the EEC in 1973 and 1985, respective...</td>\n",
       "      <td>non_argument</td>\n",
       "    </tr>\n",
       "  </tbody>\n",
       "</table>\n",
       "<p>11597 rows × 2 columns</p>\n",
       "</div>"
      ],
      "text/plain": [
       "                                                sentence    annotation\n",
       "0      Zero. A time, this will deepen the river for p...  non_argument\n",
       "1      Under these including lurs and the southern po...  non_argument\n",
       "2      Stay as German Democratic Republic. In 1990, t...  non_argument\n",
       "3      Major men's seventh-most visited city destinat...  non_argument\n",
       "4      PhilPapers Normative The aim of restoring degr...  non_argument\n",
       "...                                                  ...           ...\n",
       "11592  Still require in Uganda was expelled by the lo...  non_argument\n",
       "11593  Which views St. Paul and Elder state that comp...  non_argument\n",
       "11594  Currently plays agreement, on 1 January 2007 p...  non_argument\n",
       "11595  Heavy intensity. belong in an AND gate and sim...  non_argument\n",
       "11596  About 29% the EEC in 1973 and 1985, respective...  non_argument\n",
       "\n",
       "[11597 rows x 2 columns]"
      ]
     },
     "execution_count": 6,
     "metadata": {},
     "output_type": "execute_result"
    }
   ],
   "source": [
    "df"
   ]
  },
  {
   "cell_type": "code",
   "execution_count": 7,
   "id": "2acad836",
   "metadata": {},
   "outputs": [],
   "source": [
    "df.to_csv(\"non_arguments_random_raw.csv\", sep='\\t', encoding='utf-8')"
   ]
  },
  {
   "cell_type": "code",
   "execution_count": null,
   "id": "1d509e4c",
   "metadata": {},
   "outputs": [],
   "source": []
  },
  {
   "cell_type": "code",
   "execution_count": 8,
   "id": "3a60d453",
   "metadata": {},
   "outputs": [],
   "source": [
    "sents = df['sentence']"
   ]
  },
  {
   "cell_type": "code",
   "execution_count": 9,
   "id": "f247fa3c",
   "metadata": {},
   "outputs": [],
   "source": [
    "longest = 0\n",
    "shortest = 10000\n",
    "average = 0\n",
    "lengths = []\n",
    "for sentence in sents:\n",
    "    length = len(sentence.split())\n",
    "    lengths.append(length)\n",
    "    if length > longest:\n",
    "        longest = length\n",
    "    if length < shortest:\n",
    "        shortest = length"
   ]
  },
  {
   "cell_type": "code",
   "execution_count": 10,
   "id": "9c6a5069",
   "metadata": {},
   "outputs": [
    {
     "name": "stdout",
     "output_type": "stream",
     "text": [
      "15\n",
      "10\n",
      "12\n"
     ]
    }
   ],
   "source": [
    "print(longest)\n",
    "print(shortest)\n",
    "print(int(np.average(lengths)))"
   ]
  }
 ],
 "metadata": {
  "kernelspec": {
   "display_name": "Python3.10.2 (venv)",
   "language": "python",
   "name": "venv"
  },
  "language_info": {
   "codemirror_mode": {
    "name": "ipython",
    "version": 3
   },
   "file_extension": ".py",
   "mimetype": "text/x-python",
   "name": "python",
   "nbconvert_exporter": "python",
   "pygments_lexer": "ipython3",
   "version": "3.10.2"
  }
 },
 "nbformat": 4,
 "nbformat_minor": 5
}
