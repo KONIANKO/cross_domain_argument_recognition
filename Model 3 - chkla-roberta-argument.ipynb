{
 "cells": [
  {
   "cell_type": "markdown",
   "id": "06601155",
   "metadata": {},
   "source": [
    "### Model 3"
   ]
  },
  {
   "cell_type": "markdown",
   "id": "e9fe6903",
   "metadata": {},
   "source": [
    "https://huggingface.co/chkla/roberta-argument"
   ]
  },
  {
   "cell_type": "code",
   "execution_count": 1,
   "id": "9e0eba8e",
   "metadata": {},
   "outputs": [],
   "source": [
    "from transformers import AutoTokenizer, AutoModelForSequenceClassification\n",
    "from sklearn.metrics import classification_report\n",
    "from sklearn.metrics import confusion_matrix\n",
    "import pandas as pd\n",
    "import nltk\n",
    "import math\n",
    "from sklearn.feature_extraction.text import CountVectorizer\n",
    "import torch"
   ]
  },
  {
   "cell_type": "code",
   "execution_count": 2,
   "id": "dfd182a9",
   "metadata": {},
   "outputs": [],
   "source": [
    "domain_1 = pd.read_csv('domain_1_set_clean.csv', sep='\\t', encoding='utf-8', usecols=['sentence', 'annotation'])\n",
    "domain_2 = pd.read_csv('domain_2_set_clean.csv', sep='\\t', encoding='utf-8', usecols=['sentence', 'annotation'])"
   ]
  },
  {
   "cell_type": "code",
   "execution_count": 3,
   "id": "3b90f994",
   "metadata": {},
   "outputs": [],
   "source": [
    "# drop nan sentences\n",
    "domain_1 = domain_1[domain_1['sentence'].notna()]"
   ]
  },
  {
   "cell_type": "code",
   "execution_count": 4,
   "id": "ebc9e9e8",
   "metadata": {},
   "outputs": [],
   "source": [
    "# drop two arguments and two non-arguments\n",
    "domain_1 = domain_1.drop(domain_1.index[[0,1,2,12095]])"
   ]
  },
  {
   "cell_type": "code",
   "execution_count": 5,
   "id": "4925bd17",
   "metadata": {},
   "outputs": [
    {
     "data": {
      "text/plain": [
       "non_argument    6048\n",
       "argument        6048\n",
       "Name: annotation, dtype: int64"
      ]
     },
     "execution_count": 5,
     "metadata": {},
     "output_type": "execute_result"
    }
   ],
   "source": [
    "domain_1[\"annotation\"].value_counts()"
   ]
  },
  {
   "cell_type": "code",
   "execution_count": 6,
   "id": "398e972b",
   "metadata": {},
   "outputs": [
    {
     "data": {
      "text/plain": [
       "12096"
      ]
     },
     "execution_count": 6,
     "metadata": {},
     "output_type": "execute_result"
    }
   ],
   "source": [
    "len(domain_1)"
   ]
  },
  {
   "cell_type": "code",
   "execution_count": null,
   "id": "69775623",
   "metadata": {},
   "outputs": [],
   "source": []
  },
  {
   "cell_type": "code",
   "execution_count": 7,
   "id": "5460bcf6",
   "metadata": {},
   "outputs": [],
   "source": [
    "# drop nan sentences\n",
    "domain_2 = domain_2[domain_2['sentence'].notna()]"
   ]
  },
  {
   "cell_type": "code",
   "execution_count": 8,
   "id": "635e0314",
   "metadata": {},
   "outputs": [],
   "source": [
    "# drop two arguments\n",
    "domain_2 = domain_2.drop(domain_2.index[[0,3]])"
   ]
  },
  {
   "cell_type": "code",
   "execution_count": 9,
   "id": "85208360",
   "metadata": {},
   "outputs": [
    {
     "data": {
      "text/plain": [
       "non_argument    6048\n",
       "argument        6048\n",
       "Name: annotation, dtype: int64"
      ]
     },
     "execution_count": 9,
     "metadata": {},
     "output_type": "execute_result"
    }
   ],
   "source": [
    "domain_2[\"annotation\"].value_counts()"
   ]
  },
  {
   "cell_type": "code",
   "execution_count": 10,
   "id": "a555fc6c",
   "metadata": {},
   "outputs": [
    {
     "data": {
      "text/plain": [
       "12096"
      ]
     },
     "execution_count": 10,
     "metadata": {},
     "output_type": "execute_result"
    }
   ],
   "source": [
    "len(domain_2)"
   ]
  },
  {
   "cell_type": "code",
   "execution_count": null,
   "id": "048f07dd",
   "metadata": {},
   "outputs": [],
   "source": []
  },
  {
   "cell_type": "markdown",
   "id": "5a331a6f",
   "metadata": {},
   "source": [
    "### Model"
   ]
  },
  {
   "cell_type": "code",
   "execution_count": 11,
   "id": "672f8846",
   "metadata": {},
   "outputs": [],
   "source": [
    "# drop nan sentences\n",
    "domain_1 = domain_1[domain_1['sentence'].notna()]"
   ]
  },
  {
   "cell_type": "code",
   "execution_count": 12,
   "id": "6e1f0da1",
   "metadata": {},
   "outputs": [],
   "source": [
    "# check if has worked\n",
    "for sent in domain_1[\"sentence\"]:\n",
    "    if type(sent) == float:\n",
    "        print(sent)"
   ]
  },
  {
   "cell_type": "code",
   "execution_count": 13,
   "id": "6eb2e4b8",
   "metadata": {},
   "outputs": [
    {
     "data": {
      "text/plain": [
       "12096"
      ]
     },
     "execution_count": 13,
     "metadata": {},
     "output_type": "execute_result"
    }
   ],
   "source": [
    "len(domain_1)"
   ]
  },
  {
   "cell_type": "code",
   "execution_count": 14,
   "id": "6d03b905",
   "metadata": {},
   "outputs": [
    {
     "data": {
      "text/html": [
       "<div>\n",
       "<style scoped>\n",
       "    .dataframe tbody tr th:only-of-type {\n",
       "        vertical-align: middle;\n",
       "    }\n",
       "\n",
       "    .dataframe tbody tr th {\n",
       "        vertical-align: top;\n",
       "    }\n",
       "\n",
       "    .dataframe thead th {\n",
       "        text-align: right;\n",
       "    }\n",
       "</style>\n",
       "<table border=\"1\" class=\"dataframe\">\n",
       "  <thead>\n",
       "    <tr style=\"text-align: right;\">\n",
       "      <th></th>\n",
       "      <th>sentence</th>\n",
       "      <th>annotation</th>\n",
       "    </tr>\n",
       "  </thead>\n",
       "  <tbody>\n",
       "    <tr>\n",
       "      <th>3</th>\n",
       "      <td>cantons abrahamic religions judaism christiani...</td>\n",
       "      <td>non_argument</td>\n",
       "    </tr>\n",
       "    <tr>\n",
       "      <th>4</th>\n",
       "      <td>historians sympathized millau viaduct worlds p...</td>\n",
       "      <td>non_argument</td>\n",
       "    </tr>\n",
       "    <tr>\n",
       "      <th>5</th>\n",
       "      <td>mechanics ensured virginia twelve celebrities ...</td>\n",
       "      <td>non_argument</td>\n",
       "    </tr>\n",
       "    <tr>\n",
       "      <th>6</th>\n",
       "      <td>planets intended meaning free adopted mexican–...</td>\n",
       "      <td>non_argument</td>\n",
       "    </tr>\n",
       "    <tr>\n",
       "      <th>7</th>\n",
       "      <td>fiji francophonie canada additionally one gdp</td>\n",
       "      <td>non_argument</td>\n",
       "    </tr>\n",
       "    <tr>\n",
       "      <th>...</th>\n",
       "      <td>...</td>\n",
       "      <td>...</td>\n",
       "    </tr>\n",
       "    <tr>\n",
       "      <th>12094</th>\n",
       "      <td>limit use diverse product one use found object...</td>\n",
       "      <td>argument</td>\n",
       "    </tr>\n",
       "    <tr>\n",
       "      <th>12096</th>\n",
       "      <td>connect cheap offwhite paper known rhône valle...</td>\n",
       "      <td>non_argument</td>\n",
       "    </tr>\n",
       "    <tr>\n",
       "      <th>12097</th>\n",
       "      <td>continent equal zero chemical formula often</td>\n",
       "      <td>non_argument</td>\n",
       "    </tr>\n",
       "    <tr>\n",
       "      <th>12098</th>\n",
       "      <td>meant view penrose discusses long career also ...</td>\n",
       "      <td>non_argument</td>\n",
       "    </tr>\n",
       "    <tr>\n",
       "      <th>12099</th>\n",
       "      <td>human beings simply genes molecules</td>\n",
       "      <td>argument</td>\n",
       "    </tr>\n",
       "  </tbody>\n",
       "</table>\n",
       "<p>12096 rows × 2 columns</p>\n",
       "</div>"
      ],
      "text/plain": [
       "                                                sentence    annotation\n",
       "3      cantons abrahamic religions judaism christiani...  non_argument\n",
       "4      historians sympathized millau viaduct worlds p...  non_argument\n",
       "5      mechanics ensured virginia twelve celebrities ...  non_argument\n",
       "6      planets intended meaning free adopted mexican–...  non_argument\n",
       "7          fiji francophonie canada additionally one gdp  non_argument\n",
       "...                                                  ...           ...\n",
       "12094  limit use diverse product one use found object...      argument\n",
       "12096  connect cheap offwhite paper known rhône valle...  non_argument\n",
       "12097        continent equal zero chemical formula often  non_argument\n",
       "12098  meant view penrose discusses long career also ...  non_argument\n",
       "12099                human beings simply genes molecules      argument\n",
       "\n",
       "[12096 rows x 2 columns]"
      ]
     },
     "execution_count": 14,
     "metadata": {},
     "output_type": "execute_result"
    }
   ],
   "source": [
    "domain_1"
   ]
  },
  {
   "cell_type": "code",
   "execution_count": 15,
   "id": "3f8ee145",
   "metadata": {},
   "outputs": [
    {
     "data": {
      "text/html": [
       "<div>\n",
       "<style scoped>\n",
       "    .dataframe tbody tr th:only-of-type {\n",
       "        vertical-align: middle;\n",
       "    }\n",
       "\n",
       "    .dataframe tbody tr th {\n",
       "        vertical-align: top;\n",
       "    }\n",
       "\n",
       "    .dataframe thead th {\n",
       "        text-align: right;\n",
       "    }\n",
       "</style>\n",
       "<table border=\"1\" class=\"dataframe\">\n",
       "  <thead>\n",
       "    <tr style=\"text-align: right;\">\n",
       "      <th></th>\n",
       "      <th>sentence</th>\n",
       "      <th>annotation</th>\n",
       "    </tr>\n",
       "  </thead>\n",
       "  <tbody>\n",
       "    <tr>\n",
       "      <th>1</th>\n",
       "      <td>present systematic nursing hospitals primary p...</td>\n",
       "      <td>non_argument</td>\n",
       "    </tr>\n",
       "    <tr>\n",
       "      <th>2</th>\n",
       "      <td>distance fact form data transferred computer</td>\n",
       "      <td>non_argument</td>\n",
       "    </tr>\n",
       "    <tr>\n",
       "      <th>4</th>\n",
       "      <td>strategic bombing sailors sometimes also symbo...</td>\n",
       "      <td>non_argument</td>\n",
       "    </tr>\n",
       "    <tr>\n",
       "      <th>5</th>\n",
       "      <td>longer incubation alaska known fundamental int...</td>\n",
       "      <td>non_argument</td>\n",
       "    </tr>\n",
       "    <tr>\n",
       "      <th>6</th>\n",
       "      <td>confirm sponsored helped sardinian plotters or...</td>\n",
       "      <td>non_argument</td>\n",
       "    </tr>\n",
       "    <tr>\n",
       "      <th>...</th>\n",
       "      <td>...</td>\n",
       "      <td>...</td>\n",
       "    </tr>\n",
       "    <tr>\n",
       "      <th>12095</th>\n",
       "      <td>ask permission time allowed</td>\n",
       "      <td>argument</td>\n",
       "    </tr>\n",
       "    <tr>\n",
       "      <th>12096</th>\n",
       "      <td>children learn manage money young age</td>\n",
       "      <td>argument</td>\n",
       "    </tr>\n",
       "    <tr>\n",
       "      <th>12097</th>\n",
       "      <td>lowlevel employee desire enhance position fair...</td>\n",
       "      <td>argument</td>\n",
       "    </tr>\n",
       "    <tr>\n",
       "      <th>12098</th>\n",
       "      <td>among famous works protocubist les demoiselles...</td>\n",
       "      <td>non_argument</td>\n",
       "    </tr>\n",
       "    <tr>\n",
       "      <th>12099</th>\n",
       "      <td>friends relationships</td>\n",
       "      <td>argument</td>\n",
       "    </tr>\n",
       "  </tbody>\n",
       "</table>\n",
       "<p>12096 rows × 2 columns</p>\n",
       "</div>"
      ],
      "text/plain": [
       "                                                sentence    annotation\n",
       "1      present systematic nursing hospitals primary p...  non_argument\n",
       "2           distance fact form data transferred computer  non_argument\n",
       "4      strategic bombing sailors sometimes also symbo...  non_argument\n",
       "5      longer incubation alaska known fundamental int...  non_argument\n",
       "6      confirm sponsored helped sardinian plotters or...  non_argument\n",
       "...                                                  ...           ...\n",
       "12095                        ask permission time allowed      argument\n",
       "12096              children learn manage money young age      argument\n",
       "12097  lowlevel employee desire enhance position fair...      argument\n",
       "12098  among famous works protocubist les demoiselles...  non_argument\n",
       "12099                              friends relationships      argument\n",
       "\n",
       "[12096 rows x 2 columns]"
      ]
     },
     "execution_count": 15,
     "metadata": {},
     "output_type": "execute_result"
    }
   ],
   "source": [
    "domain_2"
   ]
  },
  {
   "cell_type": "code",
   "execution_count": 16,
   "id": "5e4b52a8",
   "metadata": {},
   "outputs": [],
   "source": [
    "X_df_1 = list(domain_1['sentence'])\n",
    "y_df_1 = list(domain_1['annotation'])\n",
    "\n",
    "X_df_2 = list(domain_2['sentence'])\n",
    "y_df_2 = list(domain_2['annotation'])"
   ]
  },
  {
   "cell_type": "code",
   "execution_count": null,
   "id": "bf8ff100",
   "metadata": {},
   "outputs": [],
   "source": []
  },
  {
   "cell_type": "markdown",
   "id": "0b29708e",
   "metadata": {},
   "source": [
    "### Predict for Domain 1"
   ]
  },
  {
   "cell_type": "code",
   "execution_count": 17,
   "id": "76bb42d8",
   "metadata": {},
   "outputs": [],
   "source": [
    "tokenizer = AutoTokenizer.from_pretrained(\"chkla/roberta-argument\")\n",
    "\n",
    "model = AutoModelForSequenceClassification.from_pretrained(\"chkla/roberta-argument\")\n",
    "\n",
    "# apply tokenizer to list of sentences\n",
    "inputs = tokenizer(X_df_1, padding = True, truncation = True, max_length = 512, return_tensors=\"pt\")\n",
    "\n",
    "# do prediction and store predicted values\n",
    "predicted_labels = []\n",
    "\n",
    "with torch.no_grad():\n",
    "\n",
    "    outputs = model(**inputs)\n",
    "\n",
    "    #print(outputs)\n",
    "\n",
    "    predictions = torch.softmax(outputs.logits, dim=1)\n",
    "\n",
    "    # print(predictions)\n",
    "\n",
    "    labels = torch.argmax(predictions, dim=1)\n",
    "\n",
    "    curr_label = [model.config.id2label[label_id] for label_id in labels.tolist()]\n",
    "\n",
    "    predicted_labels.append(curr_label)"
   ]
  },
  {
   "cell_type": "code",
   "execution_count": 18,
   "id": "d8a709f6",
   "metadata": {},
   "outputs": [],
   "source": [
    "# map labels\n",
    "predicted_labels_interpreted = []\n",
    "for label in predicted_labels[0]:\n",
    "    if label == 'NON-ARGUMENT':\n",
    "        predicted_labels_interpreted.append('non_argument')\n",
    "    else:\n",
    "        predicted_labels_interpreted.append('argument')"
   ]
  },
  {
   "cell_type": "code",
   "execution_count": 19,
   "id": "c2a31bff",
   "metadata": {},
   "outputs": [],
   "source": [
    "# store predictions to existing dataframe\n",
    "domain_1['predicted_labels'] = predicted_labels_interpreted"
   ]
  },
  {
   "cell_type": "code",
   "execution_count": 20,
   "id": "0a07cfb6",
   "metadata": {},
   "outputs": [
    {
     "data": {
      "text/html": [
       "<div>\n",
       "<style scoped>\n",
       "    .dataframe tbody tr th:only-of-type {\n",
       "        vertical-align: middle;\n",
       "    }\n",
       "\n",
       "    .dataframe tbody tr th {\n",
       "        vertical-align: top;\n",
       "    }\n",
       "\n",
       "    .dataframe thead th {\n",
       "        text-align: right;\n",
       "    }\n",
       "</style>\n",
       "<table border=\"1\" class=\"dataframe\">\n",
       "  <thead>\n",
       "    <tr style=\"text-align: right;\">\n",
       "      <th></th>\n",
       "      <th>sentence</th>\n",
       "      <th>annotation</th>\n",
       "      <th>predicted_labels</th>\n",
       "    </tr>\n",
       "  </thead>\n",
       "  <tbody>\n",
       "    <tr>\n",
       "      <th>3</th>\n",
       "      <td>cantons abrahamic religions judaism christiani...</td>\n",
       "      <td>non_argument</td>\n",
       "      <td>non_argument</td>\n",
       "    </tr>\n",
       "    <tr>\n",
       "      <th>4</th>\n",
       "      <td>historians sympathized millau viaduct worlds p...</td>\n",
       "      <td>non_argument</td>\n",
       "      <td>non_argument</td>\n",
       "    </tr>\n",
       "    <tr>\n",
       "      <th>5</th>\n",
       "      <td>mechanics ensured virginia twelve celebrities ...</td>\n",
       "      <td>non_argument</td>\n",
       "      <td>argument</td>\n",
       "    </tr>\n",
       "    <tr>\n",
       "      <th>6</th>\n",
       "      <td>planets intended meaning free adopted mexican–...</td>\n",
       "      <td>non_argument</td>\n",
       "      <td>non_argument</td>\n",
       "    </tr>\n",
       "    <tr>\n",
       "      <th>7</th>\n",
       "      <td>fiji francophonie canada additionally one gdp</td>\n",
       "      <td>non_argument</td>\n",
       "      <td>non_argument</td>\n",
       "    </tr>\n",
       "    <tr>\n",
       "      <th>...</th>\n",
       "      <td>...</td>\n",
       "      <td>...</td>\n",
       "      <td>...</td>\n",
       "    </tr>\n",
       "    <tr>\n",
       "      <th>12094</th>\n",
       "      <td>limit use diverse product one use found object...</td>\n",
       "      <td>argument</td>\n",
       "      <td>non_argument</td>\n",
       "    </tr>\n",
       "    <tr>\n",
       "      <th>12096</th>\n",
       "      <td>connect cheap offwhite paper known rhône valle...</td>\n",
       "      <td>non_argument</td>\n",
       "      <td>non_argument</td>\n",
       "    </tr>\n",
       "    <tr>\n",
       "      <th>12097</th>\n",
       "      <td>continent equal zero chemical formula often</td>\n",
       "      <td>non_argument</td>\n",
       "      <td>non_argument</td>\n",
       "    </tr>\n",
       "    <tr>\n",
       "      <th>12098</th>\n",
       "      <td>meant view penrose discusses long career also ...</td>\n",
       "      <td>non_argument</td>\n",
       "      <td>non_argument</td>\n",
       "    </tr>\n",
       "    <tr>\n",
       "      <th>12099</th>\n",
       "      <td>human beings simply genes molecules</td>\n",
       "      <td>argument</td>\n",
       "      <td>non_argument</td>\n",
       "    </tr>\n",
       "  </tbody>\n",
       "</table>\n",
       "<p>12096 rows × 3 columns</p>\n",
       "</div>"
      ],
      "text/plain": [
       "                                                sentence    annotation  \\\n",
       "3      cantons abrahamic religions judaism christiani...  non_argument   \n",
       "4      historians sympathized millau viaduct worlds p...  non_argument   \n",
       "5      mechanics ensured virginia twelve celebrities ...  non_argument   \n",
       "6      planets intended meaning free adopted mexican–...  non_argument   \n",
       "7          fiji francophonie canada additionally one gdp  non_argument   \n",
       "...                                                  ...           ...   \n",
       "12094  limit use diverse product one use found object...      argument   \n",
       "12096  connect cheap offwhite paper known rhône valle...  non_argument   \n",
       "12097        continent equal zero chemical formula often  non_argument   \n",
       "12098  meant view penrose discusses long career also ...  non_argument   \n",
       "12099                human beings simply genes molecules      argument   \n",
       "\n",
       "      predicted_labels  \n",
       "3         non_argument  \n",
       "4         non_argument  \n",
       "5             argument  \n",
       "6         non_argument  \n",
       "7         non_argument  \n",
       "...                ...  \n",
       "12094     non_argument  \n",
       "12096     non_argument  \n",
       "12097     non_argument  \n",
       "12098     non_argument  \n",
       "12099     non_argument  \n",
       "\n",
       "[12096 rows x 3 columns]"
      ]
     },
     "execution_count": 20,
     "metadata": {},
     "output_type": "execute_result"
    }
   ],
   "source": [
    "domain_1"
   ]
  },
  {
   "cell_type": "code",
   "execution_count": 21,
   "id": "0ff98f53",
   "metadata": {},
   "outputs": [],
   "source": [
    "y_true_1 = domain_1['annotation']\n",
    "y_pred_1 = domain_1['predicted_labels']\n",
    "domain_1['predicted_labels_model_3_domain_1'] = y_pred_1"
   ]
  },
  {
   "cell_type": "code",
   "execution_count": 22,
   "id": "5176cc4f",
   "metadata": {},
   "outputs": [
    {
     "name": "stdout",
     "output_type": "stream",
     "text": [
      "[[4275 1773]\n",
      " [ 172 5876]]\n"
     ]
    }
   ],
   "source": [
    "print(confusion_matrix(y_true_1, y_pred_1))"
   ]
  },
  {
   "cell_type": "code",
   "execution_count": 23,
   "id": "7d2a5abc",
   "metadata": {},
   "outputs": [
    {
     "name": "stdout",
     "output_type": "stream",
     "text": [
      "              precision    recall  f1-score   support\n",
      "\n",
      "    argument       0.96      0.71      0.81      6048\n",
      "non_argument       0.77      0.97      0.86      6048\n",
      "\n",
      "    accuracy                           0.84     12096\n",
      "   macro avg       0.86      0.84      0.84     12096\n",
      "weighted avg       0.86      0.84      0.84     12096\n",
      "\n"
     ]
    }
   ],
   "source": [
    "print(classification_report(y_true_1, y_pred_1))"
   ]
  },
  {
   "cell_type": "code",
   "execution_count": 24,
   "id": "e5cc1c1a",
   "metadata": {},
   "outputs": [],
   "source": [
    "domain_1.to_csv(\"M3_domain_1.csv\", sep='\\t', encoding='utf-8')"
   ]
  },
  {
   "cell_type": "code",
   "execution_count": null,
   "id": "336a7d11",
   "metadata": {},
   "outputs": [],
   "source": []
  },
  {
   "cell_type": "markdown",
   "id": "e65aec59",
   "metadata": {},
   "source": [
    "### Predict for Domain 2"
   ]
  },
  {
   "cell_type": "code",
   "execution_count": 25,
   "id": "a0ad774f",
   "metadata": {},
   "outputs": [],
   "source": [
    "tokenizer = AutoTokenizer.from_pretrained(\"chkla/roberta-argument\")\n",
    "\n",
    "model = AutoModelForSequenceClassification.from_pretrained(\"chkla/roberta-argument\")\n",
    "\n",
    "# apply tokenizer to list of sentences\n",
    "inputs = tokenizer(X_df_2, padding = True, truncation = True, max_length = 512, return_tensors=\"pt\")\n",
    "\n",
    "# do prediction and store predicted values\n",
    "predicted_labels = []\n",
    "\n",
    "with torch.no_grad():\n",
    "\n",
    "    outputs = model(**inputs)\n",
    "\n",
    "    #print(outputs)\n",
    "\n",
    "    predictions = torch.softmax(outputs.logits, dim=1)\n",
    "\n",
    "    # print(predictions)\n",
    "\n",
    "    labels = torch.argmax(predictions, dim=1)\n",
    "\n",
    "    curr_label = [model.config.id2label[label_id] for label_id in labels.tolist()]\n",
    "\n",
    "    predicted_labels.append(curr_label)"
   ]
  },
  {
   "cell_type": "code",
   "execution_count": 26,
   "id": "28916add",
   "metadata": {},
   "outputs": [],
   "source": [
    "# map labels\n",
    "predicted_labels_interpreted = []\n",
    "for label in predicted_labels[0]:\n",
    "    if label == 'NON-ARGUMENT':\n",
    "        predicted_labels_interpreted.append('non_argument')\n",
    "    else:\n",
    "        predicted_labels_interpreted.append('argument')"
   ]
  },
  {
   "cell_type": "code",
   "execution_count": 27,
   "id": "62dc10cb",
   "metadata": {},
   "outputs": [],
   "source": [
    "# store predictions to existing dataframe\n",
    "domain_2['predicted_labels'] = predicted_labels_interpreted"
   ]
  },
  {
   "cell_type": "code",
   "execution_count": 28,
   "id": "12a6af20",
   "metadata": {},
   "outputs": [
    {
     "data": {
      "text/html": [
       "<div>\n",
       "<style scoped>\n",
       "    .dataframe tbody tr th:only-of-type {\n",
       "        vertical-align: middle;\n",
       "    }\n",
       "\n",
       "    .dataframe tbody tr th {\n",
       "        vertical-align: top;\n",
       "    }\n",
       "\n",
       "    .dataframe thead th {\n",
       "        text-align: right;\n",
       "    }\n",
       "</style>\n",
       "<table border=\"1\" class=\"dataframe\">\n",
       "  <thead>\n",
       "    <tr style=\"text-align: right;\">\n",
       "      <th></th>\n",
       "      <th>sentence</th>\n",
       "      <th>annotation</th>\n",
       "      <th>predicted_labels</th>\n",
       "    </tr>\n",
       "  </thead>\n",
       "  <tbody>\n",
       "    <tr>\n",
       "      <th>1</th>\n",
       "      <td>present systematic nursing hospitals primary p...</td>\n",
       "      <td>non_argument</td>\n",
       "      <td>non_argument</td>\n",
       "    </tr>\n",
       "    <tr>\n",
       "      <th>2</th>\n",
       "      <td>distance fact form data transferred computer</td>\n",
       "      <td>non_argument</td>\n",
       "      <td>non_argument</td>\n",
       "    </tr>\n",
       "    <tr>\n",
       "      <th>4</th>\n",
       "      <td>strategic bombing sailors sometimes also symbo...</td>\n",
       "      <td>non_argument</td>\n",
       "      <td>non_argument</td>\n",
       "    </tr>\n",
       "    <tr>\n",
       "      <th>5</th>\n",
       "      <td>longer incubation alaska known fundamental int...</td>\n",
       "      <td>non_argument</td>\n",
       "      <td>non_argument</td>\n",
       "    </tr>\n",
       "    <tr>\n",
       "      <th>6</th>\n",
       "      <td>confirm sponsored helped sardinian plotters or...</td>\n",
       "      <td>non_argument</td>\n",
       "      <td>non_argument</td>\n",
       "    </tr>\n",
       "    <tr>\n",
       "      <th>...</th>\n",
       "      <td>...</td>\n",
       "      <td>...</td>\n",
       "      <td>...</td>\n",
       "    </tr>\n",
       "    <tr>\n",
       "      <th>12095</th>\n",
       "      <td>ask permission time allowed</td>\n",
       "      <td>argument</td>\n",
       "      <td>non_argument</td>\n",
       "    </tr>\n",
       "    <tr>\n",
       "      <th>12096</th>\n",
       "      <td>children learn manage money young age</td>\n",
       "      <td>argument</td>\n",
       "      <td>non_argument</td>\n",
       "    </tr>\n",
       "    <tr>\n",
       "      <th>12097</th>\n",
       "      <td>lowlevel employee desire enhance position fair...</td>\n",
       "      <td>argument</td>\n",
       "      <td>non_argument</td>\n",
       "    </tr>\n",
       "    <tr>\n",
       "      <th>12098</th>\n",
       "      <td>among famous works protocubist les demoiselles...</td>\n",
       "      <td>non_argument</td>\n",
       "      <td>non_argument</td>\n",
       "    </tr>\n",
       "    <tr>\n",
       "      <th>12099</th>\n",
       "      <td>friends relationships</td>\n",
       "      <td>argument</td>\n",
       "      <td>non_argument</td>\n",
       "    </tr>\n",
       "  </tbody>\n",
       "</table>\n",
       "<p>12096 rows × 3 columns</p>\n",
       "</div>"
      ],
      "text/plain": [
       "                                                sentence    annotation  \\\n",
       "1      present systematic nursing hospitals primary p...  non_argument   \n",
       "2           distance fact form data transferred computer  non_argument   \n",
       "4      strategic bombing sailors sometimes also symbo...  non_argument   \n",
       "5      longer incubation alaska known fundamental int...  non_argument   \n",
       "6      confirm sponsored helped sardinian plotters or...  non_argument   \n",
       "...                                                  ...           ...   \n",
       "12095                        ask permission time allowed      argument   \n",
       "12096              children learn manage money young age      argument   \n",
       "12097  lowlevel employee desire enhance position fair...      argument   \n",
       "12098  among famous works protocubist les demoiselles...  non_argument   \n",
       "12099                              friends relationships      argument   \n",
       "\n",
       "      predicted_labels  \n",
       "1         non_argument  \n",
       "2         non_argument  \n",
       "4         non_argument  \n",
       "5         non_argument  \n",
       "6         non_argument  \n",
       "...                ...  \n",
       "12095     non_argument  \n",
       "12096     non_argument  \n",
       "12097     non_argument  \n",
       "12098     non_argument  \n",
       "12099     non_argument  \n",
       "\n",
       "[12096 rows x 3 columns]"
      ]
     },
     "execution_count": 28,
     "metadata": {},
     "output_type": "execute_result"
    }
   ],
   "source": [
    "domain_2"
   ]
  },
  {
   "cell_type": "code",
   "execution_count": 29,
   "id": "749d1c95",
   "metadata": {},
   "outputs": [],
   "source": [
    "y_true_2 = domain_2['annotation']\n",
    "y_pred_2 = domain_2['predicted_labels']\n",
    "domain_2['predicted_labels_model_3_domain_2'] = y_pred_2"
   ]
  },
  {
   "cell_type": "code",
   "execution_count": 30,
   "id": "222812f5",
   "metadata": {},
   "outputs": [
    {
     "name": "stdout",
     "output_type": "stream",
     "text": [
      "[[1648 4400]\n",
      " [ 173 5875]]\n"
     ]
    }
   ],
   "source": [
    "print(confusion_matrix(y_true_2, y_pred_2))"
   ]
  },
  {
   "cell_type": "code",
   "execution_count": 31,
   "id": "ff10e6d1",
   "metadata": {},
   "outputs": [
    {
     "name": "stdout",
     "output_type": "stream",
     "text": [
      "              precision    recall  f1-score   support\n",
      "\n",
      "    argument       0.90      0.27      0.42      6048\n",
      "non_argument       0.57      0.97      0.72      6048\n",
      "\n",
      "    accuracy                           0.62     12096\n",
      "   macro avg       0.74      0.62      0.57     12096\n",
      "weighted avg       0.74      0.62      0.57     12096\n",
      "\n"
     ]
    }
   ],
   "source": [
    "print(classification_report(y_true_2, y_pred_2))"
   ]
  },
  {
   "cell_type": "code",
   "execution_count": 32,
   "id": "3d21d096",
   "metadata": {},
   "outputs": [],
   "source": [
    "domain_2.to_csv(\"M3_domain_2.csv\", sep='\\t', encoding='utf-8')"
   ]
  }
 ],
 "metadata": {
  "kernelspec": {
   "display_name": "Python3.10.2 (venv)",
   "language": "python",
   "name": "venv"
  },
  "language_info": {
   "codemirror_mode": {
    "name": "ipython",
    "version": 3
   },
   "file_extension": ".py",
   "mimetype": "text/x-python",
   "name": "python",
   "nbconvert_exporter": "python",
   "pygments_lexer": "ipython3",
   "version": "3.10.2"
  }
 },
 "nbformat": 4,
 "nbformat_minor": 5
}
